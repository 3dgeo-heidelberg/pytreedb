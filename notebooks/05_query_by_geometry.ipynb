{
 "cells": [
  {
   "cell_type": "markdown",
   "id": "ddec052b",
   "metadata": {},
   "source": [
    "# Query data by geometry"
   ]
  },
  {
   "cell_type": "code",
   "execution_count": null,
   "id": "9b9c1e68",
   "metadata": {},
   "outputs": [],
   "source": [
    "import sys\n",
    "import json\n",
    "\n",
    "# installing needed packages - this may take a few minutes\n",
    "!conda install --yes --prefix {sys.prefix} shapely\n",
    "!conda install --yes --prefix {sys.prefix} folium\n",
    "import shapely.geometry\n",
    "import folium\n",
    "\n",
    "sys.path.append(\"..\")\n",
    "from pytreedb import db"
   ]
  },
  {
   "cell_type": "markdown",
   "id": "6e7edcf9",
   "metadata": {},
   "source": [
    "Specify the file where database is stored locally additionally to MongoDB."
   ]
  },
  {
   "cell_type": "code",
   "execution_count": null,
   "id": "0e7189f7",
   "metadata": {},
   "outputs": [],
   "source": [
    "mydbfile = \"my_first_pytree.db\""
   ]
  },
  {
   "cell_type": "markdown",
   "id": "a9163a58",
   "metadata": {},
   "source": [
    "Specify the location of the data to be imported. Here, we use a URL to a zipped folder with GeoJSON files for each tree to be added. You can also provide the path to a local directory containing the GeoJSON files."
   ]
  },
  {
   "cell_type": "code",
   "execution_count": null,
   "id": "0942acff",
   "metadata": {},
   "outputs": [],
   "source": [
    "data_url = (\n",
    "    \"https://github.com/3dgeo-heidelberg/pytreedb/raw/main/data/test/geojsons.zip\"\n",
    ")"
   ]
  },
  {
   "cell_type": "markdown",
   "id": "c33e165b",
   "metadata": {},
   "source": [
    "Define the (local) MongoDB connection and import data into pytreedb from URL."
   ]
  },
  {
   "cell_type": "code",
   "execution_count": null,
   "id": "3c088b4b",
   "metadata": {},
   "outputs": [],
   "source": [
    "mydb = db.PyTreeDB(dbfile=mydbfile)\n",
    "mydb.import_data(data_url, overwrite=True)"
   ]
  },
  {
   "cell_type": "markdown",
   "id": "12b7463f",
   "metadata": {},
   "source": [
    "If we are only interested in trees in a certain area, we can query the tree database by a given geometry. For example, we can create a polygon and filter for trees lying within the polygon."
   ]
  },
  {
   "cell_type": "code",
   "execution_count": null,
   "id": "80dd0c07",
   "metadata": {},
   "outputs": [],
   "source": [
    "SP02_coords = [\n",
    "    [\n",
    "        [8.6539, 49.0206],\n",
    "        [8.6632, 49.0206],\n",
    "        [8.6632, 49.0169],\n",
    "        [8.6539, 49.0169],\n",
    "        [8.6539, 49.0206],\n",
    "    ]\n",
    "]\n",
    "poly_dict = json.dumps({\"type\": \"Polygon\", \"coordinates\": SP02_coords})"
   ]
  },
  {
   "cell_type": "code",
   "execution_count": null,
   "id": "07ed2507",
   "metadata": {},
   "outputs": [],
   "source": [
    "geom = json.loads(poly_dict)\n",
    "search_geom = shapely.geometry.shape(geom)\n",
    "\n",
    "m = folium.Map([49.00772676282502, 8.701981844725482], zoom_start=12)\n",
    "folium.GeoJson(search_geom).add_to(m)\n",
    "m"
   ]
  },
  {
   "cell_type": "code",
   "execution_count": null,
   "id": "046fb5f3",
   "metadata": {},
   "outputs": [],
   "source": [
    "res = mydb.query_by_geometry(poly_dict)"
   ]
  },
  {
   "cell_type": "code",
   "execution_count": null,
   "id": "384f3b6b",
   "metadata": {},
   "outputs": [],
   "source": [
    "tree_locations = [tree[\"geometry\"][\"coordinates\"] for tree in res]\n",
    "tree_ids = [tree[\"properties\"][\"id\"] for tree in res]"
   ]
  },
  {
   "cell_type": "code",
   "execution_count": null,
   "id": "cb4700d3",
   "metadata": {},
   "outputs": [],
   "source": [
    "m = folium.Map([49.0186, 8.6582], zoom_start=16)\n",
    "folium.GeoJson(search_geom).add_to(m)\n",
    "for point, name in zip(tree_locations, tree_ids):\n",
    "    # note that we have to reverse latitude and longitude\n",
    "    folium.Marker(point[1::-1], popup=name).add_to(m)\n",
    "m"
   ]
  },
  {
   "cell_type": "markdown",
   "id": "4b16fa50",
   "metadata": {},
   "source": [
    "You can zoom in and click on the markers in the Map to read out the ID of the tree at the respective location."
   ]
  },
  {
   "cell_type": "code",
   "execution_count": null,
   "id": "e5b9d735",
   "metadata": {},
   "outputs": [],
   "source": []
  }
 ],
 "metadata": {
  "kernelspec": {
   "display_name": "Python 3 (ipykernel)",
   "language": "python",
   "name": "python3"
  },
  "language_info": {
   "codemirror_mode": {
    "name": "ipython",
    "version": 3
   },
   "file_extension": ".py",
   "mimetype": "text/x-python",
   "name": "python",
   "nbconvert_exporter": "python",
   "pygments_lexer": "ipython3",
   "version": "3.9.10"
  }
 },
 "nbformat": 4,
 "nbformat_minor": 5
}
