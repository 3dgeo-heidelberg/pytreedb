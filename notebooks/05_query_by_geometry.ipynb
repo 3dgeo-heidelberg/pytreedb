{
 "cells": [
  {
   "cell_type": "markdown",
   "id": "ddec052b",
   "metadata": {},
   "source": [
    "# Query data by geometry"
   ]
  },
  {
   "cell_type": "markdown",
   "id": "a5472595",
   "metadata": {},
   "source": [
    "## Package imports"
   ]
  },
  {
   "cell_type": "code",
   "execution_count": null,
   "id": "9b9c1e68",
   "metadata": {},
   "outputs": [],
   "source": [
    "import sys\n",
    "import json\n",
    "\n",
    "# installing needed packages - this may take a few minutes\n",
    "try:\n",
    "    import shapely.geometry\n",
    "    import folium\n",
    "except ModuleNotFoundError:\n",
    "    !{sys.executable} -m pip install shapely\n",
    "    !{sys.executable} -m pip install folium\n",
    "    import shapely.geometry\n",
    "    import folium\n",
    "\n",
    "from pytreedb import db"
   ]
  },
  {
   "cell_type": "markdown",
   "id": "379fef74",
   "metadata": {},
   "source": [
    "## Import data"
   ]
  },
  {
   "cell_type": "markdown",
   "id": "6e7edcf9",
   "metadata": {},
   "source": [
    "Specify the file where database is stored locally additionally to MongoDB."
   ]
  },
  {
   "cell_type": "code",
   "execution_count": null,
   "id": "0e7189f7",
   "metadata": {},
   "outputs": [],
   "source": [
    "mydbfile = \"my_query_pytree.db\""
   ]
  },
  {
   "cell_type": "markdown",
   "id": "c33e165b",
   "metadata": {},
   "source": [
    "Define the (local) MongoDB connection and import data into pytreedb from URL."
   ]
  },
  {
   "cell_type": "code",
   "execution_count": null,
   "id": "3c088b4b",
   "metadata": {},
   "outputs": [],
   "source": [
    "mydb = db.PyTreeDB(dbfile=mydbfile)\n",
    "data_url = \"https://github.com/3dgeo-heidelberg/pytreedb/raw/main/data/test/geojsons.zip\"\n",
    "mydb.import_data(data_url, overwrite=True)"
   ]
  },
  {
   "cell_type": "markdown",
   "id": "3576eaaa",
   "metadata": {},
   "source": [
    "## Get all trees inside a polygon"
   ]
  },
  {
   "cell_type": "markdown",
   "id": "12b7463f",
   "metadata": {},
   "source": [
    "If we are only interested in trees in a certain area, we can query the tree database by a given geometry. For example, we can create a polygon and filter for trees lying within the polygon. Here, we are doing this for our forest plot \"SP02\" lying in the forest southwest of Bretten."
   ]
  },
  {
   "cell_type": "code",
   "execution_count": null,
   "id": "80dd0c07",
   "metadata": {},
   "outputs": [],
   "source": [
    "SP02_coords = [\n",
    "    [\n",
    "        [8.657777973760469, 49.019526417240272],\n",
    "        [8.6564204259407, 49.018633562408255],\n",
    "        [8.655062878168346, 49.019526417240272],\n",
    "        [8.656420425940698, 49.020419287904346],\n",
    "        [8.657777973760469, 49.019526417240272],\n",
    "    ]\n",
    "]\n",
    "\n",
    "poly_dict = json.dumps({\"type\": \"Polygon\", \"coordinates\": SP02_coords})"
   ]
  },
  {
   "cell_type": "markdown",
   "id": "0af3d1fd",
   "metadata": {},
   "source": [
    "Let's first have a look at the polygon on the map."
   ]
  },
  {
   "cell_type": "code",
   "execution_count": null,
   "id": "07ed2507",
   "metadata": {},
   "outputs": [],
   "source": [
    "geom = json.loads(poly_dict)\n",
    "search_geom = shapely.geometry.shape(geom)\n",
    "\n",
    "m = folium.Map([49.00772676282502, 8.701981844725482], zoom_start=13)\n",
    "folium.GeoJson(search_geom).add_to(m)\n",
    "m"
   ]
  },
  {
   "cell_type": "markdown",
   "id": "2ec17f65",
   "metadata": {},
   "source": [
    "Now we query the database using the polygon."
   ]
  },
  {
   "cell_type": "code",
   "execution_count": null,
   "id": "046fb5f3",
   "metadata": {},
   "outputs": [],
   "source": [
    "res = mydb.query_by_geometry(poly_dict)"
   ]
  },
  {
   "cell_type": "markdown",
   "id": "f79a104c",
   "metadata": {},
   "source": [
    "To display the filtered trees on the map, we retrieve their locations, their IDs and their species."
   ]
  },
  {
   "cell_type": "code",
   "execution_count": null,
   "id": "384f3b6b",
   "metadata": {},
   "outputs": [],
   "source": [
    "tree_locations = [tree[\"geometry\"][\"coordinates\"] for tree in res]\n",
    "tree_ids = [tree[\"properties\"][\"id\"] for tree in res]\n",
    "tree_species = [tree[\"properties\"][\"species\"] for tree in res]"
   ]
  },
  {
   "cell_type": "markdown",
   "id": "e0513773",
   "metadata": {},
   "source": [
    "You can zoom in and click on the markers in the map created below to read out the ID and species of the respective tree."
   ]
  },
  {
   "cell_type": "code",
   "execution_count": null,
   "id": "cb4700d3",
   "metadata": {},
   "outputs": [],
   "source": [
    "tooltip = \"Click me!\"\n",
    "m = folium.Map([49.0195175, 8.6563631], zoom_start=17)\n",
    "folium.GeoJson(search_geom).add_to(m)\n",
    "for point, name, species in zip(tree_locations, tree_ids, tree_species):\n",
    "    html = f\"\"\"\n",
    "    <strong>{name}</strong><br>\n",
    "    <em>{species}</em>\n",
    "    \"\"\"\n",
    "    # note that we have to reverse latitude and longitude\n",
    "    folium.Marker(point[1::-1], popup=html, tooltip=tooltip).add_to(m)\n",
    "m"
   ]
  },
  {
   "cell_type": "markdown",
   "id": "cb0ba928",
   "metadata": {},
   "source": [
    "## Get all trees within a certain radius from a point"
   ]
  },
  {
   "cell_type": "markdown",
   "id": "4b16fa50",
   "metadata": {},
   "source": [
    "We can also query by a point geometry by specifying a distance around a point, within which trees must lie."
   ]
  },
  {
   "cell_type": "code",
   "execution_count": null,
   "id": "e5b9d735",
   "metadata": {},
   "outputs": [],
   "source": [
    "query_point = [8.6995085, 49.0131634]\n",
    "point_dict = json.dumps({\"type\": \"Point\", \"coordinates\": query_point})\n",
    "\n",
    "search_radius = 150.0\n",
    "res = mydb.query_by_geometry(point_dict, distance=search_radius)\n",
    "\n",
    "tree_locations = [tree[\"geometry\"][\"coordinates\"] for tree in res]\n",
    "tree_ids = [tree[\"properties\"][\"id\"] for tree in res]\n",
    "tree_species = [tree[\"properties\"][\"species\"] for tree in res]"
   ]
  },
  {
   "cell_type": "code",
   "execution_count": null,
   "id": "25f6f18a",
   "metadata": {},
   "outputs": [],
   "source": [
    "m = folium.Map([49.0131634, 8.6995085], zoom_start=17)\n",
    "folium.Marker(\n",
    "    query_point[::-1],\n",
    "    tooltip=f\"Center point, search radius = {search_radius}\",\n",
    "    icon=folium.Icon(color=\"black\", icon=\"circle\", prefix=\"fa\"),\n",
    ").add_to(m)\n",
    "for point, name, species in zip(tree_locations, tree_ids, tree_species):\n",
    "    html = f\"\"\"\n",
    "    <strong>{name}</strong><br>\n",
    "    <em>{species}</em>\n",
    "    \"\"\"\n",
    "    # note that we have to reverse latitude and longitude\n",
    "    folium.Marker(point[1::-1], popup=html, tooltip=tooltip).add_to(m)\n",
    "m"
   ]
  },
  {
   "cell_type": "markdown",
   "id": "2c31a1d5",
   "metadata": {
    "pycharm": {
     "name": "#%% md\n"
    }
   },
   "source": [
    "## Using very large query geometries\n",
    "\n",
    "When using query geometries whose area is greater than a single hemisphere, we have to use the custom MongoDB\n",
    "coordinate system."
   ]
  },
  {
   "cell_type": "code",
   "execution_count": null,
   "id": "63c1d5eb",
   "metadata": {
    "pycharm": {
     "name": "#%%\n"
    }
   },
   "outputs": [],
   "source": [
    "huge_search_geom = {\n",
    "    \"type\": \"Polygon\",\n",
    "    \"coordinates\": [\n",
    "        [\n",
    "            [-100, 60],\n",
    "            [-100, 0],\n",
    "            [-100, -60],\n",
    "            [100, -60],\n",
    "            [100, 60],\n",
    "            [-100, 60],\n",
    "        ]\n",
    "    ],\n",
    "    \"crs\": {\"type\": \"name\", \"properties\": {\"name\": \"urn:x-mongodb:crs:strictwinding:EPSG:4326\"}},\n",
    "}\n",
    "\n",
    "m = folium.Map([49.00772676282502, 8.701981844725482], zoom_start=1)\n",
    "folium.GeoJson(huge_search_geom).add_to(m)\n",
    "m"
   ]
  },
  {
   "cell_type": "code",
   "execution_count": null,
   "id": "7cc7a0e1",
   "metadata": {
    "pycharm": {
     "name": "#%%\n"
    }
   },
   "outputs": [],
   "source": [
    "res = mydb.query_by_geometry(huge_search_geom)\n",
    "print(len(res))"
   ]
  },
  {
   "cell_type": "code",
   "execution_count": null,
   "id": "fbab5f10",
   "metadata": {
    "pycharm": {
     "name": "#%%\n"
    }
   },
   "outputs": [],
   "source": [
    "tree_locations = [tree[\"geometry\"][\"coordinates\"] for tree in res]\n",
    "folium.Marker(tree_locations[0][1::-1]).add_to(m)\n",
    "m"
   ]
  }
 ],
 "metadata": {
  "kernelspec": {
   "display_name": "Python 3 (ipykernel)",
   "language": "python",
   "name": "python3"
  },
  "language_info": {
   "codemirror_mode": {
    "name": "ipython",
    "version": 3
   },
   "file_extension": ".py",
   "mimetype": "text/x-python",
   "name": "python",
   "nbconvert_exporter": "python",
   "pygments_lexer": "ipython3",
   "version": "3.9.12"
  }
 },
 "nbformat": 4,
 "nbformat_minor": 5
}
