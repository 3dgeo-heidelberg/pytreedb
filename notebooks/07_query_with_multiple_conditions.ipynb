{
 "cells": [
  {
   "cell_type": "markdown",
   "id": "e73b46b3",
   "metadata": {},
   "source": [
    "# Query data based on multiple conditions"
   ]
  },
  {
   "cell_type": "markdown",
   "id": "6bd4dd65",
   "metadata": {},
   "source": [
    "## Package imports"
   ]
  },
  {
   "cell_type": "code",
   "execution_count": null,
   "id": "764bc15a",
   "metadata": {},
   "outputs": [],
   "source": [
    "import sys\n",
    "\n",
    "sys.path.append(\"..\")\n",
    "from pytreedb import db"
   ]
  },
  {
   "cell_type": "markdown",
   "id": "ff21f15e",
   "metadata": {},
   "source": [
    "## Import database"
   ]
  },
  {
   "cell_type": "markdown",
   "id": "d2aed5d5",
   "metadata": {},
   "source": [
    "Define (local) MongoDB connection and import database from URL"
   ]
  },
  {
   "cell_type": "code",
   "execution_count": null,
   "id": "6c8596a1",
   "metadata": {},
   "outputs": [],
   "source": [
    "mydbfile = \"my_complex_query_pytree.db\"\n",
    "db_url = \"https://github.com/3dgeo-heidelberg/pytreedb/raw/main/data/test/data.db\"\n",
    "mydb = db.PyTreeDB(dbfile=mydbfile)\n",
    "mydb.import_db(db_url, overwrite=True)"
   ]
  },
  {
   "cell_type": "markdown",
   "id": "3cc0186b",
   "metadata": {},
   "source": [
    "## Queries with logical operator between conditions"
   ]
  },
  {
   "cell_type": "markdown",
   "id": "a5857974",
   "metadata": {},
   "source": [
    "Get all trees for which TLS point clouds were acquired **AND** point clouds of quality 1 (best quality) are available (acquired from **any** platform). "
   ]
  },
  {
   "cell_type": "code",
   "execution_count": null,
   "id": "7aceb32e",
   "metadata": {},
   "outputs": [],
   "source": [
    "len(mydb.query({\"$and\": [{\"properties.data.quality\": 1}, {\"properties.data.mode\": \"TLS\"}]}))"
   ]
  },
  {
   "cell_type": "markdown",
   "id": "98f2c34e",
   "metadata": {},
   "source": [
    "We can also include numeric comparison in our conditions (see `04_query_on_single_fields_and_download_laz`).\n",
    "\n",
    "Get all trees for which TLS point clouds were acquired **AND these TLS point clouds** are of quality **grade 2 or better**. Becausee multiple conditions should be fulfilled within one element of an array (here: \"data\"), we have to use the `\"$elemMatch\"` operator."
   ]
  },
  {
   "cell_type": "code",
   "execution_count": null,
   "id": "8920b603",
   "metadata": {},
   "outputs": [],
   "source": [
    "len(mydb.query({\"properties.data\": {\"$elemMatch\": {\"quality\": {\"$lte\": 2}, \"mode\": \"TLS\"}}}))"
   ]
  },
  {
   "cell_type": "markdown",
   "id": "f3454da0",
   "metadata": {},
   "source": [
    "We can use a number of conditions and connect them with logical operators (e.g., `$or` and `$and`)."
   ]
  },
  {
   "cell_type": "markdown",
   "id": "9e544f83",
   "metadata": {},
   "source": [
    "Get all tress which were acquired with ULS **AND NOT** in leaf-off condition (no matter from which platform). "
   ]
  },
  {
   "cell_type": "code",
   "execution_count": null,
   "id": "1974d56b",
   "metadata": {},
   "outputs": [],
   "source": [
    "len(\n",
    "    mydb.query(\n",
    "        {\n",
    "            \"$and\": [\n",
    "                {\"properties.data.mode\": \"ULS\"},\n",
    "                {\"properties.data.canopy_condition\": {\"$not\": {\"$regex\": \"^leaf-off\"}}},\n",
    "            ]\n",
    "        },\n",
    "    )\n",
    ")"
   ]
  },
  {
   "cell_type": "markdown",
   "id": "1cd1b9d7",
   "metadata": {},
   "source": [
    "Get all tress which were **NOT** acquired with ULS **AND NOT** ever in leaf-off condition. "
   ]
  },
  {
   "cell_type": "code",
   "execution_count": null,
   "id": "f0c42a8b",
   "metadata": {},
   "outputs": [],
   "source": [
    "len(\n",
    "    mydb.query(\n",
    "        {\n",
    "            \"$and\": [\n",
    "                {\"properties.data.mode\": {\"$not\": {\"$regex\": \"^ULS\"}}},\n",
    "                {\"properties.data.canopy_condition\": {\"$not\": {\"$regex\": \"^leaf-off\"}}},\n",
    "            ]\n",
    "        },\n",
    "    )\n",
    ")"
   ]
  },
  {
   "cell_type": "markdown",
   "id": "47aef591",
   "metadata": {},
   "source": [
    "Get all trees for which leaf-off ULS data **OR** TLS data is available."
   ]
  },
  {
   "cell_type": "code",
   "execution_count": null,
   "id": "262d0579",
   "metadata": {},
   "outputs": [],
   "source": [
    "len(\n",
    "    mydb.query(\n",
    "        {\n",
    "            \"$or\": [\n",
    "                {\"properties.data\": {\"$elemMatch\": {\"canopy_condition\": \"leaf-off\", \"mode\": \"ULS\"}}},\n",
    "                {\"properties.data.mode\": \"TLS\"},\n",
    "            ]\n",
    "        },\n",
    "    )\n",
    ")"
   ]
  },
  {
   "cell_type": "markdown",
   "id": "0a652bf2",
   "metadata": {},
   "source": [
    "Get all trees for which leaf-off ULS data **OR** TLS data is available **AND** which are taller than 20 m."
   ]
  },
  {
   "cell_type": "code",
   "execution_count": null,
   "id": "166e79a1",
   "metadata": {},
   "outputs": [],
   "source": [
    "len(\n",
    "    mydb.query(\n",
    "        {\n",
    "            \"$and\": [\n",
    "                {\n",
    "                    \"$or\": [\n",
    "                        {\"properties.data\": {\"$elemMatch\": {\"canopy_condition\": \"leaf-off\", \"mode\": \"ULS\"}}},\n",
    "                        {\"properties.data.mode\": \"TLS\"},\n",
    "                    ]\n",
    "                },\n",
    "                {\"properties.measurements.height_m\": {\"$gt\": 20}},\n",
    "            ]\n",
    "        }\n",
    "    )\n",
    ")"
   ]
  },
  {
   "cell_type": "markdown",
   "id": "5b0ec1d8",
   "metadata": {},
   "source": [
    "Get all trees for which neither field measurements **NOR** TLS measurements are available **AND** which are taller than 20 m. "
   ]
  },
  {
   "cell_type": "code",
   "execution_count": null,
   "id": "6a771fa9",
   "metadata": {},
   "outputs": [],
   "source": [
    "len(\n",
    "    mydb.query(\n",
    "        {\n",
    "            \"$and\": [\n",
    "                {\"$nor\": [{\"properties.measurements.source\": \"FI\"}, {\"properties.measurements.source\": \"TLS\"}]},\n",
    "                {\"properties.measurements.height_m\": {\"$gt\": 20}},\n",
    "            ]\n",
    "        }\n",
    "    )\n",
    ")"
   ]
  }
 ],
 "metadata": {
  "kernelspec": {
   "display_name": "Python 3 (ipykernel)",
   "language": "python",
   "name": "python3"
  },
  "language_info": {
   "codemirror_mode": {
    "name": "ipython",
    "version": 3
   },
   "file_extension": ".py",
   "mimetype": "text/x-python",
   "name": "python",
   "nbconvert_exporter": "python",
   "pygments_lexer": "ipython3",
   "version": "3.9.12"
  }
 },
 "nbformat": 4,
 "nbformat_minor": 5
}
