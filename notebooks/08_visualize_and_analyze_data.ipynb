{
 "cells": [
  {
   "cell_type": "markdown",
   "id": "e73b46b3",
   "metadata": {},
   "source": [
    "# Visualize and analyze data"
   ]
  },
  {
   "cell_type": "markdown",
   "id": "6bd4dd65",
   "metadata": {},
   "source": [
    "## Package imports"
   ]
  },
  {
   "cell_type": "code",
   "execution_count": null,
   "id": "764bc15a",
   "metadata": {},
   "outputs": [],
   "source": [
    "import sys\n",
    "import os\n",
    "import urllib.request\n",
    "\n",
    "# installing needed packages - this may take a few minutes\n",
    "try:\n",
    "    import shapely\n",
    "    import shapely.geometry\n",
    "    import folium\n",
    "except ModuleNotFoundError:\n",
    "    !{sys.executable} -m pip install shapely\n",
    "    !{sys.executable} -m pip install folium\n",
    "    import shapely\n",
    "    import shapely.geometry\n",
    "    import folium\n",
    "\n",
    "\n",
    "try:\n",
    "    import matplotlib.pyplot as plt\n",
    "    from mpl_toolkits import mplot3d\n",
    "except ModuleNotFoundError:\n",
    "    !{sys.executable} -m pip install matplotlib\n",
    "    import matplotlib.pyplot as plt\n",
    "    from mpl_toolkits import mplot3d\n",
    "\n",
    "try:\n",
    "    import laspy\n",
    "except ModuleNotFoundError:\n",
    "    !{sys.executable} -m pip install laspy[laszip]\n",
    "    import laspy\n",
    "\n",
    "import numpy as np\n",
    "from pathlib import Path\n",
    "import tempfile\n",
    "\n",
    "sys.path.append(\"..\")\n",
    "from pytreedb import db"
   ]
  },
  {
   "cell_type": "markdown",
   "id": "ff21f15e",
   "metadata": {},
   "source": [
    "## Import database"
   ]
  },
  {
   "cell_type": "markdown",
   "id": "d2aed5d5",
   "metadata": {},
   "source": [
    "Define (local) MongoDB connection and import database from URL"
   ]
  },
  {
   "cell_type": "code",
   "execution_count": null,
   "id": "6c8596a1",
   "metadata": {},
   "outputs": [],
   "source": [
    "mydbfile = \"my_pytree.db\"\n",
    "db_url = \"https://github.com/3dgeo-heidelberg/pytreedb/raw/main/data/test/data.db\"\n",
    "mydb = db.PyTreeDB(dbfile=mydbfile)\n",
    "# mydb.import_db(db_url, overwrite=True)"
   ]
  },
  {
   "cell_type": "markdown",
   "id": "3cc0186b",
   "metadata": {},
   "source": [
    "## Show data on a map"
   ]
  },
  {
   "cell_type": "markdown",
   "id": "0c30b046",
   "metadata": {},
   "source": [
    "First, let's query the database and select only trees for which terrestrial laser scanning (TLS) data is available. "
   ]
  },
  {
   "cell_type": "code",
   "execution_count": null,
   "id": "609cce7d",
   "metadata": {},
   "outputs": [],
   "source": [
    "res = mydb.query({\"properties.data.mode\": \"TLS\"})"
   ]
  },
  {
   "cell_type": "markdown",
   "id": "bc9f784a",
   "metadata": {},
   "source": [
    "To display the filtered trees on the map, we retrieve their locations, their IDs and their species."
   ]
  },
  {
   "cell_type": "code",
   "execution_count": null,
   "id": "904a9eeb",
   "metadata": {},
   "outputs": [],
   "source": [
    "tree_locations = [tree[\"geometry\"][\"coordinates\"] for tree in res]\n",
    "tree_ids = [tree[\"properties\"][\"id\"] for tree in res]\n",
    "tree_species = [tree[\"properties\"][\"species\"] for tree in res]"
   ]
  },
  {
   "cell_type": "markdown",
   "id": "8c84d2be",
   "metadata": {},
   "source": [
    "You can zoom in and click on the markers in the map created below to read out the ID and species of the respective tree."
   ]
  },
  {
   "cell_type": "code",
   "execution_count": null,
   "id": "1e819f73",
   "metadata": {},
   "outputs": [],
   "source": [
    "tooltip = \"Click me!\"\n",
    "m = folium.Map([49.0077, 8.702], zoom_start=13)\n",
    "for point, name, species in zip(tree_locations, tree_ids, tree_species):\n",
    "    html = f\"\"\"\n",
    "    <strong>{name}</strong><br>\n",
    "    <em>{species}</em>\n",
    "    \"\"\"\n",
    "    # note that we have to reverse latitude and longitude\n",
    "    folium.Marker(point[1::-1], popup=html, tooltip=tooltip).add_to(m)\n",
    "m"
   ]
  },
  {
   "cell_type": "code",
   "execution_count": null,
   "id": "595bacda",
   "metadata": {},
   "outputs": [],
   "source": [
    "tooltip = \"Click me!\"\n",
    "m = folium.Map([49.0299, 8.4382], zoom_start=14)\n",
    "for point, name, species in zip(tree_locations, tree_ids, tree_species):\n",
    "    html = f\"\"\"\n",
    "    <strong>{name}</strong><br>\n",
    "    <em>{species}</em>\n",
    "    \"\"\"\n",
    "    # note that we have to reverse latitude and longitude\n",
    "    folium.Marker(point[1::-1], popup=html, tooltip=tooltip).add_to(m)\n",
    "m"
   ]
  },
  {
   "cell_type": "markdown",
   "id": "0e77be3b",
   "metadata": {},
   "source": [
    "## Bar plots and Histograms"
   ]
  },
  {
   "cell_type": "markdown",
   "id": "f24f6a71",
   "metadata": {},
   "source": [
    "Plot the number of available trees for each data source as a bar plot"
   ]
  },
  {
   "cell_type": "code",
   "execution_count": null,
   "id": "6198d072",
   "metadata": {},
   "outputs": [],
   "source": [
    "data = {\n",
    "    \"ALS\": len(mydb.query({\"properties.data.mode\": \"ALS\"})),\n",
    "    # \"$elemMatch\" operator to specify multiple criteria on an array element.\n",
    "    \"ULS leaf-on\": len(mydb.query({\"properties.data\": {\"$elemMatch\": {\"mode\": \"ULS\", \"canopy_condition\": \"leaf-on\"}}})),\n",
    "    \"ULS leaf-off\": len(\n",
    "        mydb.query({\"properties.data\": {\"$elemMatch\": {\"mode\": \"ULS\", \"canopy_condition\": \"leaf-off\"}}})\n",
    "    ),\n",
    "    \"TLS\": len(mydb.query({\"properties.data.mode\": \"TLS\"})),\n",
    "}"
   ]
  },
  {
   "cell_type": "code",
   "execution_count": null,
   "id": "47794026",
   "metadata": {},
   "outputs": [],
   "source": [
    "names = list(data.keys())\n",
    "values = list(data.values())\n",
    "\n",
    "plots = plt.bar(range(len(data)), values, tick_label=names)\n",
    "for bar in plots.patches:\n",
    "    plt.annotate(\n",
    "        format(bar.get_height(), \"d\"),\n",
    "        (bar.get_x() + bar.get_width() / 2, bar.get_height()),\n",
    "        ha=\"center\",\n",
    "        va=\"center\",\n",
    "        size=13,\n",
    "        xytext=(0, -10),\n",
    "        textcoords=\"offset points\",\n",
    "    )\n",
    "plt.show()"
   ]
  },
  {
   "cell_type": "markdown",
   "id": "d377946b",
   "metadata": {},
   "source": [
    "Plot a histogram of tree heights (measured from ALS data)"
   ]
  },
  {
   "cell_type": "code",
   "execution_count": null,
   "id": "9032c476",
   "metadata": {},
   "outputs": [],
   "source": [
    "ALS_meas = [\n",
    "    meas_dict\n",
    "    for tree in mydb.db\n",
    "    for meas_dict in tree[\"properties\"][\"measurements\"]\n",
    "    if \"source\" in meas_dict.keys() and meas_dict[\"source\"] == \"ALS\"\n",
    "]\n",
    "tree_heights_ALS = np.array([meas_dict[\"height_m\"] for meas_dict in ALS_meas])\n",
    "\n",
    "# the histogram of the data\n",
    "n, bins, patches = plt.hist(tree_heights_ALS, 50, facecolor=\"g\", alpha=0.75)\n",
    "\n",
    "plt.xlabel(\"Tree height [m]\")\n",
    "plt.ylabel(\"Frequency\")\n",
    "plt.title(\"Histogram of tree heights\")\n",
    "plt.grid(True)\n",
    "plt.show()"
   ]
  },
  {
   "cell_type": "markdown",
   "id": "c52c62e8",
   "metadata": {},
   "source": [
    "## Scatter plot of metrics"
   ]
  },
  {
   "cell_type": "markdown",
   "id": "9489339a",
   "metadata": {},
   "source": [
    "Scatter plots of metrics obtained from different sources"
   ]
  },
  {
   "cell_type": "code",
   "execution_count": null,
   "id": "db96af8f",
   "metadata": {},
   "outputs": [],
   "source": [
    "res = mydb.query({\"$and\": [{\"properties.data.mode\": \"ALS\"}, {\"properties.data.mode\": \"ULS\"}]})\n",
    "ULS_meas = [\n",
    "    meas_dict\n",
    "    for tree in res\n",
    "    for meas_dict in tree[\"properties\"][\"measurements\"]\n",
    "    if \"source\" in meas_dict.keys() and meas_dict[\"source\"] == \"ULS\" and meas_dict[\"canopy_condition\"] == \"leaf-on\"\n",
    "]\n",
    "ALS_meas = [\n",
    "    meas_dict\n",
    "    for tree in res\n",
    "    for meas_dict in tree[\"properties\"][\"measurements\"]\n",
    "    if \"source\" in meas_dict.keys() and meas_dict[\"source\"] == \"ALS\" and meas_dict[\"canopy_condition\"] == \"leaf-on\"\n",
    "]\n",
    "tree_heights_ULS = np.array([meas_dict[\"height_m\"] for meas_dict in ULS_meas])\n",
    "tree_heights_ALS = np.array([meas_dict[\"height_m\"] for meas_dict in ALS_meas])\n",
    "\n",
    "fig, ax = plt.subplots(figsize=(5, 5))\n",
    "# scatter plot of tree heights from different sources\n",
    "ax.scatter(tree_heights_ALS, tree_heights_ULS, s=8.0, alpha=0.2, color=\"green\")\n",
    "# plot diagonal\n",
    "ax.plot([0, 1], [0, 1], transform=ax.transAxes, color=\"black\", ls=\"--\", lw=1.5)\n",
    "plt.xlabel(\"source: ALS\")\n",
    "plt.ylabel(\"source: ULS\")\n",
    "plt.title(\"Tree height [m] estimated from ALS and ULS point clouds\")\n",
    "\n",
    "plt.axis(\"square\")\n",
    "plt.show()"
   ]
  },
  {
   "cell_type": "code",
   "execution_count": null,
   "id": "23849f50",
   "metadata": {},
   "outputs": [],
   "source": [
    "res = mydb.query({\"$and\": [{\"properties.measurements.source\": \"TLS\"}, {\"properties.measurements.source\": \"FI\"}]})\n",
    "TLS_meas = [\n",
    "    meas_dict\n",
    "    for tree in res\n",
    "    for meas_dict in tree[\"properties\"][\"measurements\"]\n",
    "    if \"source\" in meas_dict.keys() and meas_dict[\"source\"] == \"TLS\"\n",
    "]\n",
    "FI_meas = [\n",
    "    meas_dict\n",
    "    for tree in res\n",
    "    for meas_dict in tree[\"properties\"][\"measurements\"]\n",
    "    if \"source\" in meas_dict.keys() and meas_dict[\"source\"] == \"FI\"\n",
    "]\n",
    "DBH_TLS = np.array([meas_dict[\"DBH_cm\"] for meas_dict in TLS_meas])\n",
    "DBH_FI = np.array([meas_dict[\"DBH_cm\"] for meas_dict in FI_meas])\n",
    "\n",
    "fig, ax = plt.subplots(figsize=(5, 5))\n",
    "ax.scatter(DBH_TLS, DBH_FI, s=10, alpha=1.0, color=\"skyblue\")\n",
    "ax.plot([0, 1], [0, 1], transform=ax.transAxes, color=\"black\", ls=\"--\", lw=1.5)\n",
    "plt.xlabel(\"source: TLS\")\n",
    "plt.ylabel(\"source: FI\")\n",
    "plt.title(\"DBH [cm] estimated from TLS point clouds and collected in the Forest Inventory\")\n",
    "\n",
    "plt.axis(\"square\")\n",
    "plt.show()"
   ]
  },
  {
   "cell_type": "markdown",
   "id": "fd8fe748",
   "metadata": {},
   "source": [
    "Plot DBH against tree height"
   ]
  },
  {
   "cell_type": "code",
   "execution_count": null,
   "id": "e3a4957c",
   "metadata": {},
   "outputs": [],
   "source": [
    "# \"$elemMatch\" operator to specify multiple criteria on an array element.\n",
    "# the query returns trees which have both a) TLS measurements and b) leaf-on ULS measurements\n",
    "res = mydb.query(\n",
    "    {\n",
    "        \"$and\": [\n",
    "            {\"properties.measurements.source\": \"TLS\"},\n",
    "            {\"properties.measurements\": {\"$elemMatch\": {\"source\": \"ULS\", \"canopy_condition\": \"leaf-on\"}}},\n",
    "        ]\n",
    "    }\n",
    ")\n",
    "TLS_meas = [\n",
    "    meas_dict\n",
    "    for tree in res\n",
    "    for meas_dict in tree[\"properties\"][\"measurements\"]\n",
    "    if \"source\" in meas_dict.keys() and meas_dict[\"source\"] == \"TLS\"\n",
    "]\n",
    "ULS_meas = [\n",
    "    meas_dict\n",
    "    for tree in res\n",
    "    for meas_dict in tree[\"properties\"][\"measurements\"]\n",
    "    if \"source\" in meas_dict.keys() and meas_dict[\"source\"] == \"ULS\" and meas_dict[\"canopy_condition\"] == \"leaf-on\"\n",
    "]\n",
    "\n",
    "dbh = np.array([meas_dict[\"DBH_cm\"] for meas_dict in TLS_meas])\n",
    "height = np.array([meas_dict[\"height_m\"] for meas_dict in ULS_meas])\n",
    "\n",
    "fig, ax = plt.subplots(figsize=(5, 5))\n",
    "ax.scatter(dbh, height, s=10, alpha=1.0, color=\"green\")\n",
    "plt.xlabel(\"DBH [cm]\")\n",
    "plt.ylabel(\"Tree height [m]\")\n",
    "plt.title(\"DBH against tree height\")\n",
    "\n",
    "plt.axis(\"square\")\n",
    "plt.show()"
   ]
  },
  {
   "cell_type": "markdown",
   "id": "45d10485",
   "metadata": {},
   "source": [
    "Compare crown diameter to tree height ratio for different species"
   ]
  },
  {
   "cell_type": "code",
   "execution_count": null,
   "id": "96854e28",
   "metadata": {},
   "outputs": [],
   "source": [
    "res = mydb.query(\n",
    "    {\n",
    "        \"properties.measurements\": {\n",
    "            \"$elemMatch\": {\n",
    "                \"source\": \"ULS\",\n",
    "                \"canopy_condition\": \"leaf-on\",\n",
    "                \"height_m\": {\"$exists\": True},\n",
    "                \"mean_crown_diameter_m\": {\"$exists\": True},\n",
    "            }\n",
    "        }\n",
    "    }\n",
    ")\n",
    "tree_species = [tree[\"properties\"][\"species\"] for tree in res]\n",
    "height = [\n",
    "    meas_dict[\"height_m\"]\n",
    "    for tree in res\n",
    "    for meas_dict in tree[\"properties\"][\"measurements\"]\n",
    "    if \"source\" in meas_dict.keys() and meas_dict[\"source\"] == \"ULS\" and meas_dict[\"canopy_condition\"] == \"leaf-on\"\n",
    "]\n",
    "diam = [\n",
    "    meas_dict[\"mean_crown_diameter_m\"]\n",
    "    for tree in res\n",
    "    for meas_dict in tree[\"properties\"][\"measurements\"]\n",
    "    if \"source\" in meas_dict.keys() and meas_dict[\"source\"] == \"ULS\" and meas_dict[\"canopy_condition\"] == \"leaf-on\"\n",
    "]\n",
    "\n",
    "num_colors = len(set(tree_species))\n",
    "cm = plt.get_cmap(\"gist_rainbow\")\n",
    "my_colors = [cm(1.0 * i / num_colors) for i in range(num_colors)]\n",
    "\n",
    "my_color_dict = {}\n",
    "for i, species in enumerate(set(tree_species)):\n",
    "    my_color_dict[species] = my_colors[i]\n",
    "\n",
    "scatter = plt.scatter(diam, height, c=[my_color_dict[i] for i in tree_species])\n",
    "plt.xlabel(\"Crown diameter [m]\")\n",
    "plt.ylabel(\"Tree height [m]\")\n",
    "plt.title(\"Crown diameter and tree height for trees by species\")\n",
    "plt.grid(True)\n",
    "# generate custom fake lines that will be used as legend entries\n",
    "markers = [plt.Line2D([0, 0], [0, 0], color=color, marker=\"o\", linestyle=\"\") for color in my_color_dict.values()]\n",
    "plt.legend(markers, my_color_dict.keys(), numpoints=1, title=\"Species\", loc=\"center left\", bbox_to_anchor=(1, 0.5))\n",
    "plt.show()"
   ]
  },
  {
   "cell_type": "markdown",
   "id": "de0f8d59",
   "metadata": {},
   "source": [
    "## 3D plots of point clouds"
   ]
  },
  {
   "cell_type": "code",
   "execution_count": null,
   "id": "ca8371c5",
   "metadata": {},
   "outputs": [],
   "source": [
    "# pypotree / PPTK / Open3D / PyntCloud / matplotlib ?\n",
    "import matplotlib.pyplot as plt\n",
    "from mpl_toolkits import mplot3d"
   ]
  },
  {
   "cell_type": "code",
   "execution_count": null,
   "id": "3054bacd",
   "metadata": {},
   "outputs": [],
   "source": [
    "res = mydb.query(\n",
    "    {\n",
    "        \"$and\": [\n",
    "            {\"properties.data\": {\"$elemMatch\": {\"mode\": \"TLS\", \"quality\": 1}}},\n",
    "            {\"properties.data.mode\": \"ALS\"},\n",
    "            {\"properties.data\": {\"$elemMatch\": {\"mode\": \"ULS\", \"canopy_condition\": \"leaf-on\"}}},\n",
    "            {\"properties.data\": {\"$elemMatch\": {\"mode\": \"ULS\", \"canopy_condition\": \"leaf-off\"}}},\n",
    "            {\"properties.species\": \"Quercus petraea\"},\n",
    "        ]\n",
    "    }\n",
    ")"
   ]
  },
  {
   "cell_type": "code",
   "execution_count": null,
   "id": "a295a55c",
   "metadata": {},
   "outputs": [],
   "source": [
    "def reporthook(count, block_size, total_size):\n",
    "    percent = min(int(count * block_size * 100 / total_size), 100)\n",
    "    print(\"\\r...{}%\".format(percent), end=\"\")\n",
    "\n",
    "\n",
    "def download_data(filename, url):\n",
    "    if not Path(filename).exists():\n",
    "        print(f\"Downloading data from '{url}' to '{filename}'. Please wait ...\")\n",
    "        if not Path(filename).parent.exists():\n",
    "            Path(filename).parent.mkdir()\n",
    "        urllib.request.urlretrieve(url, filename, reporthook=reporthook)\n",
    "        print(\"\\nDownload finished\")\n",
    "    else:\n",
    "        print(\"File already exists. Great!\")\n",
    "    return"
   ]
  },
  {
   "cell_type": "code",
   "execution_count": null,
   "id": "59d9f3f5",
   "metadata": {},
   "outputs": [],
   "source": [
    "output_folder = tempfile.TemporaryDirectory()\n",
    "download_links = mydb.get_pointcloud_urls([res[0]])\n",
    "modes = [data[\"mode\"] for data in res[0][\"properties\"][\"data\"]]\n",
    "canopy_cond = [data[\"canopy_condition\"] for data in res[0][\"properties\"][\"data\"]]\n",
    "files_written = []\n",
    "for url in download_links:\n",
    "    outfile = Path(output_folder.name) / url.split(\"/\")[-1]\n",
    "    download_data(outfile, url)\n",
    "    files_written.append(outfile)"
   ]
  },
  {
   "cell_type": "code",
   "execution_count": null,
   "id": "a78c1279",
   "metadata": {},
   "outputs": [],
   "source": [
    "def set_axes_equal(ax):\n",
    "    \"\"\"Make axes of 3D plot have equal scale so that spheres appear as spheres,\n",
    "    cubes as cubes, etc..  This is one possible solution to Matplotlib's\n",
    "    ax.set_aspect('equal') and ax.axis('equal') not working for 3D.\n",
    "\n",
    "    Input\n",
    "      ax: a matplotlib axis, e.g., as output from plt.gca().\n",
    "    \"\"\"\n",
    "\n",
    "    x_limits = ax.get_xlim3d()\n",
    "    y_limits = ax.get_ylim3d()\n",
    "    z_limits = ax.get_zlim3d()\n",
    "\n",
    "    x_range = abs(x_limits[1] - x_limits[0])\n",
    "    x_middle = np.mean(x_limits)\n",
    "    y_range = abs(y_limits[1] - y_limits[0])\n",
    "    y_middle = np.mean(y_limits)\n",
    "    z_range = abs(z_limits[1] - z_limits[0])\n",
    "    z_middle = np.mean(z_limits)\n",
    "\n",
    "    # The plot bounding box is a sphere in the sense of the infinity\n",
    "    # norm, hence I call half the max range the plot radius.\n",
    "    plot_radius = 0.5 * max([x_range, y_range, z_range])\n",
    "\n",
    "    ax.set_xlim3d([x_middle - plot_radius, x_middle + plot_radius])\n",
    "    ax.set_ylim3d([y_middle - plot_radius, y_middle + plot_radius])\n",
    "    ax.set_zlim3d([z_middle - plot_radius, z_middle + plot_radius])"
   ]
  },
  {
   "cell_type": "code",
   "execution_count": null,
   "id": "f1f548a7",
   "metadata": {},
   "outputs": [],
   "source": [
    "fig = plt.figure(figsize=(10, 50))\n",
    "\n",
    "for i, file in enumerate(files_written):\n",
    "    mode = modes[i]\n",
    "    canopy = canopy_cond[i]\n",
    "    ax = fig.add_subplot(5, 1, i + 1, projection=\"3d\")\n",
    "    las = laspy.read(file)\n",
    "    coords = np.vstack((las.x, las.y, las.z)).transpose()\n",
    "    try:\n",
    "        reflectance = las.Reflectance\n",
    "    except AttributeError:\n",
    "        reflectance = las._Reflectance\n",
    "    if mode == \"TLS-on\":\n",
    "        coords = coords[::10]\n",
    "        reflectance = reflectance[::10]\n",
    "    ax.scatter(coords[:, 0], coords[:, 1], coords[:, 2], c=reflectance, s=0.01)\n",
    "    ax.set_title(f\"{mode} ({canopy})\")\n",
    "    set_axes_equal(ax)\n",
    "    plt.tick_params(left=False, bottom=False, labelleft=False, labelbottom=False)\n",
    "\n",
    "plt.show()"
   ]
  },
  {
   "cell_type": "code",
   "execution_count": null,
   "id": "98cda581",
   "metadata": {},
   "outputs": [],
   "source": [
    "output_folder.cleanup()"
   ]
  },
  {
   "cell_type": "code",
   "execution_count": null,
   "id": "7815f53a",
   "metadata": {},
   "outputs": [],
   "source": []
  }
 ],
 "metadata": {
  "kernelspec": {
   "display_name": "Python 3 (ipykernel)",
   "language": "python",
   "name": "python3"
  },
  "language_info": {
   "codemirror_mode": {
    "name": "ipython",
    "version": 3
   },
   "file_extension": ".py",
   "mimetype": "text/x-python",
   "name": "python",
   "nbconvert_exporter": "python",
   "pygments_lexer": "ipython3",
   "version": "3.9.12"
  }
 },
 "nbformat": 4,
 "nbformat_minor": 5
}
