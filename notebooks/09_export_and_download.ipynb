{
 "cells": [
  {
   "cell_type": "markdown",
   "id": "020700fd",
   "metadata": {},
   "source": [
    "# Saving, exporting and downloading data"
   ]
  },
  {
   "cell_type": "markdown",
   "id": "62bfe3fb",
   "metadata": {},
   "source": [
    "## Package imports"
   ]
  },
  {
   "cell_type": "code",
   "execution_count": null,
   "id": "d6f6b8a2",
   "metadata": {},
   "outputs": [],
   "source": [
    "import sys\n",
    "from pathlib import Path\n",
    "import urllib.request\n",
    "from IPython.display import display, clear_output\n",
    "\n",
    "sys.path.append(\"..\")\n",
    "from pytreedb import db"
   ]
  },
  {
   "cell_type": "markdown",
   "id": "1618dfb5",
   "metadata": {},
   "source": [
    "## Import database"
   ]
  },
  {
   "cell_type": "markdown",
   "id": "ef364189",
   "metadata": {},
   "source": [
    "Define (local) MongoDB connection and import database from URL"
   ]
  },
  {
   "cell_type": "code",
   "execution_count": null,
   "id": "0e129790",
   "metadata": {},
   "outputs": [],
   "source": [
    "mydbfile = \"pytree.db\"\n",
    "db_url = \"https://github.com/3dgeo-heidelberg/pytreedb/raw/main/data/test/data.db\"\n",
    "mydb = db.PyTreeDB(dbfile=mydbfile)\n",
    "mydb.import_db(db_url, overwrite=True)"
   ]
  },
  {
   "cell_type": "markdown",
   "id": "15ef5a92",
   "metadata": {},
   "source": [
    "Define the path to a folder to which all data will be exported."
   ]
  },
  {
   "cell_type": "code",
   "execution_count": null,
   "id": "42bbc20e",
   "metadata": {},
   "outputs": [],
   "source": [
    "out_dir = \"../export\"\n",
    "if not Path(out_dir).exists():\n",
    "    Path(out_dir).mkdir()"
   ]
  },
  {
   "cell_type": "markdown",
   "id": "fcf714d4",
   "metadata": {},
   "source": [
    "## Save the database"
   ]
  },
  {
   "cell_type": "markdown",
   "id": "2bd4802f",
   "metadata": {},
   "source": [
    "With the `save` method, we can save the database to our local database file (`pytree.db`). "
   ]
  },
  {
   "cell_type": "code",
   "execution_count": null,
   "id": "87267bb0",
   "metadata": {},
   "outputs": [],
   "source": [
    "mydb.save()"
   ]
  },
  {
   "cell_type": "markdown",
   "id": "05344dc2",
   "metadata": {},
   "source": [
    "We can also save the database to a new file, e.g., `new_pytree.db`."
   ]
  },
  {
   "cell_type": "code",
   "execution_count": null,
   "id": "74237a0b",
   "metadata": {},
   "outputs": [],
   "source": [
    "mydb.save(f\"new_{mydbfile}\")"
   ]
  },
  {
   "cell_type": "markdown",
   "id": "9e41a7e0",
   "metadata": {},
   "source": [
    "## Export as GeoJSON"
   ]
  },
  {
   "cell_type": "markdown",
   "id": "425056ed",
   "metadata": {},
   "source": [
    "Before exporting the data as GeoJSON, let's filter is first. We are only interested in trees for which TLS data is available and which have a DBH of more than 90 cm."
   ]
  },
  {
   "cell_type": "code",
   "execution_count": null,
   "id": "bd2b1780",
   "metadata": {},
   "outputs": [],
   "source": [
    "subset = mydb.query({\"$and\": [{\"properties.data.mode\": \"TLS\"}, {\"properties.measurements.DBH_cm\": {\"$gte\": 80}}]})"
   ]
  },
  {
   "cell_type": "markdown",
   "id": "bfe91bf8",
   "metadata": {},
   "source": [
    "Using the `export_data` method in combination with `get_ids`, we export the filtered trees as GeoJSONs to a subfolder `geojsons_subset` in out output folder. The method returns the paths of the files that were written."
   ]
  },
  {
   "cell_type": "code",
   "execution_count": null,
   "id": "0a15bff7",
   "metadata": {},
   "outputs": [],
   "source": [
    "mydb.export_data(Path(out_dir) / \"geojsons_subset\", trees=mydb.get_ids(subset))"
   ]
  },
  {
   "cell_type": "markdown",
   "id": "dd5e4411",
   "metadata": {},
   "source": [
    "We can also export all trees by not providing a list of `trees`:"
   ]
  },
  {
   "cell_type": "code",
   "execution_count": null,
   "id": "6fb62fb0",
   "metadata": {},
   "outputs": [],
   "source": [
    "all_files_written = mydb.export_data(Path(out_dir) / \"geojsons_all\")"
   ]
  },
  {
   "cell_type": "markdown",
   "id": "2e9aba41",
   "metadata": {},
   "source": [
    "## Download LAZ point clouds"
   ]
  },
  {
   "cell_type": "markdown",
   "id": "9c0e583c",
   "metadata": {},
   "source": [
    "We also want to download the point clouds of the filtered trees.\n",
    "\n",
    "Let's define some functions for downloading files from a URL."
   ]
  },
  {
   "cell_type": "code",
   "execution_count": null,
   "id": "43a41854",
   "metadata": {},
   "outputs": [],
   "source": [
    "def reporthook(count, block_size, total_size):\n",
    "    percent = min(int(count * block_size * 100 / total_size), 100)\n",
    "    print(\"\\r...{}%\".format(percent), end=\"\")\n",
    "\n",
    "\n",
    "def download_data(filename, url):\n",
    "    if not Path(filename).exists():\n",
    "        clear_output(wait=True)\n",
    "        display(f\"Downloading data from '{url}' to '{filename}'. Please wait ...\")\n",
    "        if not Path(filename).parent.exists():\n",
    "            Path(filename).parent.mkdir()\n",
    "        urllib.request.urlretrieve(url, filename, reporthook=reporthook)\n",
    "        display(\"Download finished\")\n",
    "    else:\n",
    "        print(\"File already exists. Great!\", end=\"\\r\")"
   ]
  },
  {
   "cell_type": "markdown",
   "id": "54b821ae",
   "metadata": {},
   "source": [
    "We first create a list of download URLs, which are retrieved from the tree dictionaries. Then, we download the data to a `laz` subfolder in our output folder. The download will take a while."
   ]
  },
  {
   "cell_type": "code",
   "execution_count": null,
   "id": "8c627d24",
   "metadata": {},
   "outputs": [],
   "source": [
    "download_links = mydb.get_pointcloud_urls(subset)\n",
    "output_dir = Path(out_dir) / \"laz\"\n",
    "\n",
    "for i, url in enumerate(download_links):\n",
    "    download_data(output_dir / url.split(\"/\")[-1], url)\n",
    "clear_output(wait=True)\n",
    "print(f\"{i+1} files succesfully downloaded to {output_dir}\")"
   ]
  },
  {
   "cell_type": "markdown",
   "id": "4209c494",
   "metadata": {},
   "source": [
    "## Download CSV files"
   ]
  },
  {
   "cell_type": "markdown",
   "id": "b565e657",
   "metadata": {},
   "source": [
    "We can also download CSV files, one for general tree metrics and one for tree measurements (one row per measurement source)."
   ]
  },
  {
   "cell_type": "code",
   "execution_count": null,
   "id": "39ae4429",
   "metadata": {},
   "outputs": [],
   "source": [
    "mydb.convert_to_csv(Path(out_dir), trees=mydb.get_ids(subset))"
   ]
  },
  {
   "cell_type": "code",
   "execution_count": null,
   "id": "e5fc724f",
   "metadata": {},
   "outputs": [],
   "source": []
  }
 ],
 "metadata": {
  "kernelspec": {
   "display_name": "Python 3 (ipykernel)",
   "language": "python",
   "name": "python3"
  },
  "language_info": {
   "codemirror_mode": {
    "name": "ipython",
    "version": 3
   },
   "file_extension": ".py",
   "mimetype": "text/x-python",
   "name": "python",
   "nbconvert_exporter": "python",
   "pygments_lexer": "ipython3",
   "version": "3.9.12"
  }
 },
 "nbformat": 4,
 "nbformat_minor": 5
}
