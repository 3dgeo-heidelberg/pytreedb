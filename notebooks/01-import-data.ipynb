{
 "cells": [
  {
   "cell_type": "markdown",
   "id": "f81a0078",
   "metadata": {},
   "source": [
    "# Importing data"
   ]
  },
  {
   "cell_type": "markdown",
   "id": "826017d0",
   "metadata": {},
   "source": [
    "Package import"
   ]
  },
  {
   "cell_type": "code",
   "execution_count": null,
   "id": "9248a472",
   "metadata": {},
   "outputs": [],
   "source": [
    "import sys\n",
    "import os\n",
    "\n",
    "sys.path.append(\"..\")\n",
    "from pytreedb import db\n",
    "\n",
    "%load_ext dotenv\n",
    "%dotenv"
   ]
  },
  {
   "cell_type": "markdown",
   "id": "170ae996",
   "metadata": {},
   "source": [
    "Retrieve secrets for connecting with the MongoDB"
   ]
  },
  {
   "cell_type": "code",
   "execution_count": null,
   "id": "f9968e5e",
   "metadata": {},
   "outputs": [],
   "source": [
    "conn_uri = os.getenv(\"CONN_URI\")\n",
    "conn_db = os.getenv(\"CONN_DB\")\n",
    "conn_col = os.getenv(\"CONN_COL\")"
   ]
  },
  {
   "cell_type": "markdown",
   "id": "85983898",
   "metadata": {},
   "source": [
    "Specify the file where database is stored locally additionally to MongoDB"
   ]
  },
  {
   "cell_type": "code",
   "execution_count": null,
   "id": "506ce895",
   "metadata": {},
   "outputs": [],
   "source": [
    "mydbfile = \"my_first_pytree.db\""
   ]
  },
  {
   "cell_type": "markdown",
   "id": "7146127d",
   "metadata": {},
   "source": [
    "Specify the location of the data to be imported (zipped folder with geojson files for each tree to be added)"
   ]
  },
  {
   "cell_type": "code",
   "execution_count": null,
   "id": "e76d3356",
   "metadata": {},
   "outputs": [],
   "source": [
    "data_url = r\"https://heibox.uni-heidelberg.de/f/92dcfa3eecb240a6b550/?dl=1\""
   ]
  },
  {
   "cell_type": "markdown",
   "id": "778f314f",
   "metadata": {},
   "source": [
    "Define (local) MongoDB connection"
   ]
  },
  {
   "cell_type": "code",
   "execution_count": null,
   "id": "cc3b62b2",
   "metadata": {},
   "outputs": [],
   "source": [
    "mydb = db.PyTreeDB(\n",
    "    dbfile=mydbfile, mongodb={\"uri\": conn_uri, \"db\": conn_db, \"col\": conn_col}\n",
    ")"
   ]
  },
  {
   "cell_type": "markdown",
   "id": "7f2f3d79",
   "metadata": {},
   "source": [
    "Import data into pytreedb from URL and print short summary statistics."
   ]
  },
  {
   "cell_type": "code",
   "execution_count": null,
   "id": "db740971",
   "metadata": {},
   "outputs": [],
   "source": [
    "mydb.import_data(data_url, overwrite=True)\n",
    "print(mydb.get_stats())"
   ]
  },
  {
   "cell_type": "markdown",
   "id": "cc3f8520",
   "metadata": {},
   "source": []
  }
 ],
 "metadata": {
  "kernelspec": {
   "display_name": "Python 3 (ipykernel)",
   "language": "python",
   "name": "python3"
  },
  "language_info": {
   "codemirror_mode": {
    "name": "ipython",
    "version": 3
   },
   "file_extension": ".py",
   "mimetype": "text/x-python",
   "name": "python",
   "nbconvert_exporter": "python",
   "pygments_lexer": "ipython3",
   "version": "3.9.10"
  }
 },
 "nbformat": 4,
 "nbformat_minor": 5
}
