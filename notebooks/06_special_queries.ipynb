{
 "cells": [
  {
   "cell_type": "markdown",
   "id": "c70c8c71",
   "metadata": {},
   "source": [
    "# Special queries"
   ]
  },
  {
   "cell_type": "markdown",
   "id": "f685b8bc",
   "metadata": {},
   "source": [
    "## Package imports"
   ]
  },
  {
   "cell_type": "code",
   "execution_count": null,
   "id": "3590706d",
   "metadata": {},
   "outputs": [],
   "source": [
    "import sys\n",
    "\n",
    "sys.path.append(\"..\")\n",
    "from pytreedb import db"
   ]
  },
  {
   "cell_type": "markdown",
   "id": "aa97979e",
   "metadata": {},
   "source": [
    "Define (local) MongoDB connection and import database from URL"
   ]
  },
  {
   "cell_type": "code",
   "execution_count": null,
   "id": "6d951d3d",
   "metadata": {},
   "outputs": [],
   "source": [
    "mydbfile = \"my_complex_query_pytree.db\"\n",
    "db_url = \"https://github.com/3dgeo-heidelberg/pytreedb/raw/main/data/test/data.db\"\n",
    "mydb = db.PyTreeDB(dbfile=mydbfile)\n",
    "mydb.import_db(db_url, overwrite=False)"
   ]
  },
  {
   "cell_type": "markdown",
   "id": "e8c8d0da",
   "metadata": {},
   "source": [
    "## Query by key exists"
   ]
  },
  {
   "cell_type": "markdown",
   "id": "43b8815f",
   "metadata": {},
   "source": [
    "Get trees for which a certain key exists"
   ]
  },
  {
   "cell_type": "code",
   "execution_count": null,
   "id": "cd189d67",
   "metadata": {},
   "outputs": [],
   "source": [
    "len(mydb.query_by_key_exists(\"properties.measurements.DBH_cm\"))"
   ]
  },
  {
   "cell_type": "markdown",
   "id": "082a96db",
   "metadata": {},
   "source": [
    "## Query by species"
   ]
  },
  {
   "cell_type": "markdown",
   "id": "29310231",
   "metadata": {},
   "source": [
    "We can query by species using regular expression with the `query_by_species` method."
   ]
  },
  {
   "cell_type": "code",
   "execution_count": null,
   "id": "edb705fe",
   "metadata": {},
   "outputs": [],
   "source": [
    "len(mydb.query_by_species(\"Quercus*\"))"
   ]
  },
  {
   "cell_type": "code",
   "execution_count": null,
   "id": "fa82580a",
   "metadata": {},
   "outputs": [],
   "source": [
    "len(mydb.query_by_species(\"Quercus pet*\"))"
   ]
  },
  {
   "cell_type": "markdown",
   "id": "4882c325",
   "metadata": {},
   "source": [
    "The following gives us the results for _Picea abies_ and for _Abies alba_."
   ]
  },
  {
   "cell_type": "code",
   "execution_count": null,
   "id": "9dc37a6a",
   "metadata": {},
   "outputs": [],
   "source": [
    "len(mydb.query_by_species(\"[Aa]bies+\"))"
   ]
  },
  {
   "cell_type": "markdown",
   "id": "09433288",
   "metadata": {},
   "source": [
    "There are 205 trees of the species _Picea abies_.."
   ]
  },
  {
   "cell_type": "code",
   "execution_count": null,
   "id": "14905f6b",
   "metadata": {},
   "outputs": [],
   "source": [
    "len(mydb.query_by_species(\"Picea abies\"))"
   ]
  },
  {
   "cell_type": "markdown",
   "id": "073c134a",
   "metadata": {},
   "source": [
    "and 25 trees of the species _Abies alba_.."
   ]
  },
  {
   "cell_type": "code",
   "execution_count": null,
   "id": "9e5e2d49",
   "metadata": {},
   "outputs": [],
   "source": [
    "len(mydb.query_by_species(\"Abies alba\"))"
   ]
  },
  {
   "cell_type": "markdown",
   "id": "256d8bb0",
   "metadata": {},
   "source": [
    "## Query using key-value pair"
   ]
  },
  {
   "cell_type": "markdown",
   "id": "8b758d4c",
   "metadata": {},
   "source": [
    "We can get the same job done as above using the `query_by_key_value` method. Here, we explicitly have to provide whether or not to use regular expression."
   ]
  },
  {
   "cell_type": "markdown",
   "id": "0e2b3910",
   "metadata": {},
   "source": [
    "How many European beech (_Fagus sylvatica_) are in the database? "
   ]
  },
  {
   "cell_type": "code",
   "execution_count": null,
   "id": "d3b04820",
   "metadata": {},
   "outputs": [],
   "source": [
    "len(mydb.query_by_key_value(key=\"properties.species\", value=\"Fagus sylvatica\", regex=False))"
   ]
  },
  {
   "cell_type": "markdown",
   "id": "46669746",
   "metadata": {},
   "source": [
    "How many Silver firs (_Abies alba_) are in the database? "
   ]
  },
  {
   "cell_type": "code",
   "execution_count": null,
   "id": "bbb850c4",
   "metadata": {},
   "outputs": [],
   "source": [
    "len(mydb.query_by_key_value(key=\"properties.species\", value=\"Abies alba\", regex=False))"
   ]
  },
  {
   "cell_type": "markdown",
   "id": "2e086b72",
   "metadata": {},
   "source": [
    "We can also use regular expressions. This is useful for getting trees of a certain genus.\n",
    "How many Oaks (_Quercus_) are in the database?"
   ]
  },
  {
   "cell_type": "code",
   "execution_count": null,
   "id": "150f5c40",
   "metadata": {},
   "outputs": [],
   "source": [
    "len(mydb.query_by_key_value(key=\"properties.species\", value=\"Quercus.*\", regex=True))"
   ]
  },
  {
   "cell_type": "markdown",
   "id": "40d5d0d8",
   "metadata": {},
   "source": [
    "We might have information encoded in the tree ID, e.g., the forest plot. We can use regex to query trees lying in a specific plot."
   ]
  },
  {
   "cell_type": "code",
   "execution_count": null,
   "id": "49e3a766",
   "metadata": {},
   "outputs": [],
   "source": [
    "len(mydb.query_by_key_value(key=\"properties.id\", value=\"BR05+\", regex=True))"
   ]
  },
  {
   "cell_type": "code",
   "execution_count": null,
   "id": "29d8fc03",
   "metadata": {},
   "outputs": [],
   "source": [
    "len(mydb.query_by_key_value(key=\"properties.id\", value=\"SP02+\", regex=True))"
   ]
  },
  {
   "cell_type": "markdown",
   "id": "782bf824",
   "metadata": {},
   "source": [
    "## Query by date"
   ]
  },
  {
   "cell_type": "markdown",
   "id": "469e7970",
   "metadata": {},
   "source": [
    "Get trees for which measurements were recorded in a certain time period."
   ]
  },
  {
   "cell_type": "code",
   "execution_count": null,
   "id": "08689f41",
   "metadata": {},
   "outputs": [],
   "source": [
    "len(mydb.query_by_date(key=\"properties.measurements.date\", start=\"2019-01-01\", end=\"2019-07-01\"))"
   ]
  },
  {
   "cell_type": "markdown",
   "id": "52f73b29",
   "metadata": {},
   "source": [
    "We may also provide only a start date. In this case, the current day is taken as end date."
   ]
  },
  {
   "cell_type": "code",
   "execution_count": null,
   "id": "a08776d0",
   "metadata": {},
   "outputs": [],
   "source": [
    "len(mydb.query_by_date(key=\"properties.measurements.date\", start=\"2020-01-01\"))"
   ]
  }
 ],
 "metadata": {
  "kernelspec": {
   "display_name": "Python 3 (ipykernel)",
   "language": "python",
   "name": "python3"
  },
  "language_info": {
   "codemirror_mode": {
    "name": "ipython",
    "version": 3
   },
   "file_extension": ".py",
   "mimetype": "text/x-python",
   "name": "python",
   "nbconvert_exporter": "python",
   "pygments_lexer": "ipython3",
   "version": "3.9.12"
  }
 },
 "nbformat": 4,
 "nbformat_minor": 5
}
