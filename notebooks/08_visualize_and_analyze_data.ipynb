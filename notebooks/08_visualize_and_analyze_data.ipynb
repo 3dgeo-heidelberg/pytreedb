{
 "cells": [
  {
   "cell_type": "markdown",
   "id": "e73b46b3",
   "metadata": {},
   "source": [
    "# Visualize and analyze data"
   ]
  },
  {
   "cell_type": "markdown",
   "id": "6bd4dd65",
   "metadata": {},
   "source": [
    "## Package imports"
   ]
  },
  {
   "cell_type": "code",
   "execution_count": null,
   "id": "764bc15a",
   "metadata": {},
   "outputs": [],
   "source": [
    "import sys\n",
    "\n",
    "# installing needed packages - this may take a few minutes\n",
    "#!conda install -c conda-forge --yes --prefix {sys.prefix} laspy\n",
    "try:\n",
    "    import shapely\n",
    "    import shapely.geometry\n",
    "    import folium\n",
    "except ModuleNotFoundError:\n",
    "    !conda install --yes --prefix {sys.prefix} shapely\n",
    "    !conda install --yes --prefix {sys.prefix} folium\n",
    "    import shapely\n",
    "    import shapely.geometry\n",
    "    import folium\n",
    "\n",
    "\n",
    "try:\n",
    "    import matplotlib.pyplot as plt\n",
    "except ModuleNotFoundError:\n",
    "    !conda install --yes --prefix {sys.prefix} matplotlib\n",
    "    import matplotlib.pyplot as plt\n",
    "#import laspy\n",
    "import numpy as np\n",
    "\n",
    "sys.path.append(\"..\")\n",
    "from pytreedb import db"
   ]
  },
  {
   "cell_type": "markdown",
   "id": "ff21f15e",
   "metadata": {},
   "source": [
    "## Import database"
   ]
  },
  {
   "cell_type": "markdown",
   "id": "d2aed5d5",
   "metadata": {},
   "source": [
    "Define (local) MongoDB connection and import database from URL"
   ]
  },
  {
   "cell_type": "code",
   "execution_count": null,
   "id": "6c8596a1",
   "metadata": {},
   "outputs": [],
   "source": [
    "mydbfile = \"my_pytree.db\"\n",
    "db_url = \"https://github.com/3dgeo-heidelberg/pytreedb/raw/main/data/test/data.db\"\n",
    "mydb = db.PyTreeDB(dbfile=mydbfile)\n",
    "mydb.import_db(db_url, overwrite=True)"
   ]
  },
  {
   "cell_type": "markdown",
   "id": "3cc0186b",
   "metadata": {},
   "source": [
    "## Show data on a map"
   ]
  },
  {
   "cell_type": "markdown",
   "id": "0c30b046",
   "metadata": {},
   "source": [
    "First, let's query the database and select only trees for which terrestrial laser scanning (TLS) data is available. "
   ]
  },
  {
   "cell_type": "code",
   "execution_count": null,
   "id": "609cce7d",
   "metadata": {},
   "outputs": [],
   "source": [
    "res = mydb.query({\"properties.data.mode\": \"TLS\"})"
   ]
  },
  {
   "cell_type": "markdown",
   "id": "bc9f784a",
   "metadata": {},
   "source": [
    "To display the filtered trees on the map, we retrieve their locations, their IDs and their species."
   ]
  },
  {
   "cell_type": "code",
   "execution_count": null,
   "id": "904a9eeb",
   "metadata": {},
   "outputs": [],
   "source": [
    "tree_locations = [tree[\"geometry\"][\"coordinates\"] for tree in res]\n",
    "tree_ids = [tree[\"properties\"][\"id\"] for tree in res]\n",
    "tree_species = [tree[\"properties\"][\"species\"] for tree in res]"
   ]
  },
  {
   "cell_type": "markdown",
   "id": "8c84d2be",
   "metadata": {},
   "source": [
    "You can zoom in and click on the markers in the map created below to read out the ID and species of the respective tree."
   ]
  },
  {
   "cell_type": "code",
   "execution_count": null,
   "id": "1e819f73",
   "metadata": {},
   "outputs": [],
   "source": [
    "tooltip = \"Click me!\"\n",
    "m = folium.Map([49.0077, 8.702], zoom_start=13)\n",
    "for point, name, species in zip(tree_locations, tree_ids, tree_species):\n",
    "    html = f\"\"\"\n",
    "    <strong>{name}</strong><br>\n",
    "    <em>{species}</em>\n",
    "    \"\"\"\n",
    "    # note that we have to reverse latitude and longitude\n",
    "    folium.Marker(point[1::-1], popup=html, tooltip=tooltip).add_to(m)\n",
    "m"
   ]
  },
  {
   "cell_type": "code",
   "execution_count": null,
   "id": "595bacda",
   "metadata": {},
   "outputs": [],
   "source": [
    "tooltip = \"Click me!\"\n",
    "m = folium.Map([49.0299, 8.4382], zoom_start=14)\n",
    "for point, name, species in zip(tree_locations, tree_ids, tree_species):\n",
    "    html = f\"\"\"\n",
    "    <strong>{name}</strong><br>\n",
    "    <em>{species}</em>\n",
    "    \"\"\"\n",
    "    # note that we have to reverse latitude and longitude\n",
    "    folium.Marker(point[1::-1], popup=html, tooltip=tooltip).add_to(m)\n",
    "m"
   ]
  },
  {
   "cell_type": "markdown",
   "id": "0e77be3b",
   "metadata": {},
   "source": [
    "## Bar plots and Histograms"
   ]
  },
  {
   "cell_type": "markdown",
   "id": "f24f6a71",
   "metadata": {},
   "source": [
    "Available trees for each data source"
   ]
  },
  {
   "cell_type": "code",
   "execution_count": null,
   "id": "6198d072",
   "metadata": {},
   "outputs": [],
   "source": [
    "data = {\n",
    "    \"ALS\": len(mydb.query({\"properties.data.mode\": \"ALS\"})),\n",
    "    \"ULS leaf-on\": len(\n",
    "        mydb.query({\"$and\": [{\"properties.data.mode\": \"ULS\"}, {\"properties.data.canopy_condition\": \"leaf-on\"}]})\n",
    "    ),\n",
    "    \"ULS leaf-off\": len(\n",
    "        mydb.query({\"$and\": [{\"properties.data.mode\": \"ULS\"}, {\"properties.data.canopy_condition\": \"leaf-off\"}]})\n",
    "    ),\n",
    "    \"TLS\": len(mydb.query({\"properties.data.mode\": \"TLS\"})),\n",
    "}"
   ]
  },
  {
   "cell_type": "code",
   "execution_count": null,
   "id": "47794026",
   "metadata": {},
   "outputs": [],
   "source": [
    "names = list(data.keys())\n",
    "values = list(data.values())\n",
    "\n",
    "plots = plt.bar(range(len(data)), values, tick_label=names)\n",
    "for bar in plots.patches:\n",
    "    plt.annotate(\n",
    "        format(bar.get_height(), \"d\"),\n",
    "        (bar.get_x() + bar.get_width() / 2, bar.get_height()),\n",
    "        ha=\"center\",\n",
    "        va=\"center\",\n",
    "        size=13,\n",
    "        xytext=(0, -10),\n",
    "        textcoords=\"offset points\",\n",
    "    )\n",
    "plt.show()"
   ]
  },
  {
   "cell_type": "markdown",
   "id": "d377946b",
   "metadata": {},
   "source": [
    "Histograms of tree height/DBH/etc."
   ]
  },
  {
   "cell_type": "markdown",
   "id": "6747a600",
   "metadata": {},
   "source": [
    "## Venn diagram?"
   ]
  },
  {
   "cell_type": "markdown",
   "id": "c52c62e8",
   "metadata": {},
   "source": [
    "## Scatter plot of metrics"
   ]
  },
  {
   "cell_type": "markdown",
   "id": "fd8fe748",
   "metadata": {},
   "source": [
    "Plot DBH against tree height"
   ]
  },
  {
   "cell_type": "markdown",
   "id": "45d10485",
   "metadata": {},
   "source": [
    "Compare crown diameter to tree height ratio for different species"
   ]
  },
  {
   "cell_type": "markdown",
   "id": "9489339a",
   "metadata": {},
   "source": [
    "Scatter plots of metrics obtained from different sources"
   ]
  },
  {
   "cell_type": "markdown",
   "id": "de0f8d59",
   "metadata": {},
   "source": [
    "## 3D plots of point clouds"
   ]
  },
  {
   "cell_type": "code",
   "execution_count": null,
   "id": "ca8371c5",
   "metadata": {},
   "outputs": [],
   "source": [
    "# pypotree / PPTK / Open3D / PyntCloud / matplotlib ?"
   ]
  },
  {
   "cell_type": "code",
   "execution_count": null,
   "id": "3054bacd",
   "metadata": {},
   "outputs": [],
   "source": []
  }
 ],
 "metadata": {
  "kernelspec": {
   "display_name": "Python 3 (ipykernel)",
   "language": "python",
   "name": "python3"
  },
  "language_info": {
   "codemirror_mode": {
    "name": "ipython",
    "version": 3
   },
   "file_extension": ".py",
   "mimetype": "text/x-python",
   "name": "python",
   "nbconvert_exporter": "python",
   "pygments_lexer": "ipython3",
   "version": "3.9.12"
  }
 },
 "nbformat": 4,
 "nbformat_minor": 5
}
