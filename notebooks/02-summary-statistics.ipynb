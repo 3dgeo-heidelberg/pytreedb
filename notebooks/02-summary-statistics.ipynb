{
 "cells": [
  {
   "cell_type": "markdown",
   "id": "3fe77477",
   "metadata": {},
   "source": [
    "# Summary statistics"
   ]
  },
  {
   "cell_type": "markdown",
   "id": "e5d6e655",
   "metadata": {},
   "source": [
    "## Package imports"
   ]
  },
  {
   "cell_type": "code",
   "execution_count": null,
   "id": "b15e1857",
   "metadata": {},
   "outputs": [],
   "source": [
    "import sys\n",
    "import os\n",
    "\n",
    "sys.path.append(\"..\")\n",
    "from pytreedb import db\n",
    "\n",
    "%load_ext dotenv\n",
    "%dotenv"
   ]
  },
  {
   "cell_type": "markdown",
   "id": "6a9daf3e",
   "metadata": {},
   "source": [
    "## Importing data\n",
    "\n",
    "Retrieve secrets for connecting with the MongoDB"
   ]
  },
  {
   "cell_type": "code",
   "execution_count": null,
   "id": "5affcff2",
   "metadata": {},
   "outputs": [],
   "source": [
    "conn_uri = os.getenv(\"CONN_URI\")\n",
    "conn_db = os.getenv(\"CONN_DB\")\n",
    "conn_col = os.getenv(\"CONN_COL\")"
   ]
  },
  {
   "cell_type": "markdown",
   "id": "6196b75a",
   "metadata": {},
   "source": [
    "Specify the file where database is stored locally additionally to MongoDB (see `./01-import-data.ipynb`)."
   ]
  },
  {
   "cell_type": "code",
   "execution_count": null,
   "id": "1fe2ba91",
   "metadata": {},
   "outputs": [],
   "source": [
    "mydbfile = \"my_first_pytree.db\""
   ]
  },
  {
   "cell_type": "markdown",
   "id": "e420a71f",
   "metadata": {},
   "source": [
    "Define (local) MongoDB connection"
   ]
  },
  {
   "cell_type": "code",
   "execution_count": null,
   "id": "d6107567",
   "metadata": {},
   "outputs": [],
   "source": [
    "mydb = db.PyTreeDB(\n",
    "    dbfile=mydbfile, mongodb={\"uri\": conn_uri, \"db\": conn_db, \"col\": conn_col}\n",
    ")"
   ]
  },
  {
   "cell_type": "code",
   "execution_count": null,
   "id": "73e4b4e5",
   "metadata": {},
   "outputs": [],
   "source": [
    "mydb.import_db(\"../data/db_dump/data.db\", overwrite=False)"
   ]
  },
  {
   "cell_type": "markdown",
   "id": "2d68a9a2",
   "metadata": {},
   "source": [
    "## Get simple summary statistics\n",
    "\n",
    "Print statistics and some DB infos"
   ]
  },
  {
   "cell_type": "code",
   "execution_count": null,
   "id": "c10d2cfc",
   "metadata": {},
   "outputs": [],
   "source": [
    "print(f\" - Main stats: {mydb.get_stats()}\\n\")\n",
    "print(\" - Unique species:\\n\")\n",
    "print(*mydb.get_list_species(), sep=\"\\n\")\n",
    "print(\"\\n - Tree properties that are shared among all trees:\\n\")\n",
    "print(*mydb.get_shared_properties(), sep=\"\\n\")"
   ]
  },
  {
   "cell_type": "code",
   "execution_count": null,
   "id": "22d26818",
   "metadata": {},
   "outputs": [],
   "source": []
  }
 ],
 "metadata": {
  "kernelspec": {
   "display_name": "Python 3 (ipykernel)",
   "language": "python",
   "name": "python3"
  },
  "language_info": {
   "codemirror_mode": {
    "name": "ipython",
    "version": 3
   },
   "file_extension": ".py",
   "mimetype": "text/x-python",
   "name": "python",
   "nbconvert_exporter": "python",
   "pygments_lexer": "ipython3",
   "version": "3.9.10"
  }
 },
 "nbformat": 4,
 "nbformat_minor": 5
}
