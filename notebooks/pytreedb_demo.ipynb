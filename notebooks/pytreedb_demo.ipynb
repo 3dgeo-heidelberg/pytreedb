{
 "cells": [
  {
   "cell_type": "markdown",
   "id": "7eb95b01",
   "metadata": {},
   "source": [
    "# Backend Demo pytreedb"
   ]
  },
  {
   "cell_type": "markdown",
   "id": "da65fb3b",
   "metadata": {},
   "source": [
    "## Import data"
   ]
  },
  {
   "cell_type": "markdown",
   "id": "1bec614f",
   "metadata": {},
   "source": [
    "Package imports"
   ]
  },
  {
   "cell_type": "code",
   "execution_count": 6,
   "id": "08eed2be",
   "metadata": {},
   "outputs": [],
   "source": [
    "import pytreedb.db as pytreedb\n",
    "import json\n",
    "import shapely\n",
    "import folium\n",
    "import matplotlib.pyplot as plt"
   ]
  },
  {
   "cell_type": "markdown",
   "id": "e3263864",
   "metadata": {},
   "source": [
    "Initiate a PyTreeDB and import data from ZIP web resource"
   ]
  },
  {
   "cell_type": "code",
   "execution_count": 7,
   "id": "b24fe4cf",
   "metadata": {},
   "outputs": [
    {
     "name": "stdout",
     "output_type": "stream",
     "text": [
      "The given path of dbfile <D:\\tmp\\SYSSIFOSS\\test.db> does not exist. Create an empty file now? [Y/n] Y\n",
      "File is created successfully. Note that you might want to import data into this empty .db file.\n",
      "Download and use data from: https://heibox.uni-heidelberg.de/f/fc5e3cc8d93d4e0ca53b/?dl=1\n",
      "Downloading to local temp:  C:\\Users\\bhoefle\\AppData\\Local\\Temp\\tmpgba7ylrn\n"
     ]
    }
   ],
   "source": [
    "db = pytreedb.PyTreeDB(dbfile=r'D:\\tmp\\SYSSIFOSS\\test.db')\n",
    "db.import_data(r'https://heibox.uni-heidelberg.de/f/fc5e3cc8d93d4e0ca53b/?dl=1', overwrite=True)"
   ]
  },
  {
   "cell_type": "markdown",
   "id": "e7e28826",
   "metadata": {},
   "source": [
    "## Print statistics"
   ]
  },
  {
   "cell_type": "markdown",
   "id": "b166a6ac",
   "metadata": {},
   "source": [
    "Print statistics (number of trees and species)"
   ]
  },
  {
   "cell_type": "code",
   "execution_count": 8,
   "id": "07f3da53",
   "metadata": {},
   "outputs": [
    {
     "name": "stdout",
     "output_type": "stream",
     "text": [
      "{'n_trees': 1491, 'n_species': 22}\n"
     ]
    }
   ],
   "source": [
    "print(db.get_stats())"
   ]
  },
  {
   "cell_type": "markdown",
   "id": "815d1fd5",
   "metadata": {},
   "source": [
    "Print a list of species."
   ]
  },
  {
   "cell_type": "code",
   "execution_count": 9,
   "id": "ae73accf",
   "metadata": {},
   "outputs": [
    {
     "name": "stdout",
     "output_type": "stream",
     "text": [
      "['Pinus sylvestris', 'Larix decidua', 'Quercus petraea', 'Betula pendula', 'Tilia spec.', 'Fraxinus excelsior', 'Abies alba', 'Pseudotsuga menziesii', 'Picea abies', 'Fagus sylvatica', 'Sorbus torminalis', 'Acer campestre', 'Prunus avium', 'Quercus rubra', 'Robinia pseudoacacia', 'Prunus serotina', 'Acer pseudoplatanus', 'Carpinus betulus', 'Tsuga heterophylla', 'Salix caprea', 'Quercus robur', 'Juglans regia']\n"
     ]
    }
   ],
   "source": [
    "print(db.get_list_species())"
   ]
  },
  {
   "cell_type": "markdown",
   "id": "9a579cb3",
   "metadata": {},
   "source": [
    "## Query the DB"
   ]
  },
  {
   "cell_type": "markdown",
   "id": "e14b0adf",
   "metadata": {},
   "source": [
    "- Query by species"
   ]
  },
  {
   "cell_type": "code",
   "execution_count": 10,
   "id": "d8d9a7b7",
   "metadata": {},
   "outputs": [
    {
     "name": "stdout",
     "output_type": "stream",
     "text": [
      "Number of trees of Genus Quercus: 274\n"
     ]
    }
   ],
   "source": [
    "query_res = db.query_by_species('Quercus')\n",
    "print(\"Number of trees of Genus Quercus:\", len(query_res))"
   ]
  },
  {
   "cell_type": "code",
   "execution_count": 11,
   "id": "b7e803db",
   "metadata": {},
   "outputs": [
    {
     "name": "stdout",
     "output_type": "stream",
     "text": [
      "One example:\n",
      " {\n",
      "    \"type\": \"Feature\",\n",
      "    \"properties\": {\n",
      "        \"id\": \"QuePet_BR01_01\",\n",
      "        \"species\": \"Quercus petraea\",\n",
      "        \"source\": \"http://syssifoss.db\",\n",
      "        \"measurements\": [\n",
      "            {\n",
      "                \"source\": \"TLS\",\n",
      "                \"date\": \"2019-07-03\",\n",
      "                \"canopy_condition\": \"leaf-on\",\n",
      "                \"DBH_cm\": \"20.700\",\n",
      "                \"crown_base_height_m\": \"6.050\"\n",
      "            },\n",
      "            {\n",
      "                \"source\": \"ALS\",\n",
      "                \"date\": \"2019-07-05\",\n",
      "                \"canopy_condition\": \"leaf-on\",\n",
      "                \"height_m\": \"15.533\",\n",
      "                \"crown_base_height_m\": \"7.650\",\n",
      "                \"crown_projection_area_convex_hull_m2\": \"25.497\",\n",
      "                \"crown_projection_area_concave_hull_m2\": \"22.795\",\n",
      "                \"mean_crown_diameter_m\": \"6.351\"\n",
      "            },\n",
      "            {\n",
      "                \"source\": \"ULS\",\n",
      "                \"date\": \"2019-09-12\",\n",
      "                \"canopy_condition\": \"leaf-on\",\n",
      "                \"height_m\": \"15.643\",\n",
      "                \"crown_base_height_m\": \"8.450\",\n",
      "                \"crown_projection_area_convex_hull_m2\": \"22.118\",\n",
      "                \"crown_projection_area_concave_hull_m2\": \"18.715\",\n",
      "                \"mean_crown_diameter_m\": \"5.956\"\n",
      "            },\n",
      "            {\n",
      "                \"source\": \"ULS\",\n",
      "                \"date\": \"2019-12-04\",\n",
      "                \"canopy_condition\": \"leaf-off\",\n",
      "                \"height_m\": \"15.536\",\n",
      "                \"crown_base_height_m\": \"6.150\",\n",
      "                \"crown_projection_area_convex_hull_m2\": \"23.350\",\n",
      "                \"crown_projection_area_concave_hull_m2\": \"19.694\",\n",
      "                \"mean_crown_diameter_m\": \"5.755\"\n",
      "            },\n",
      "            {\n",
      "                \"source\": \"ULS\",\n",
      "                \"date\": \"2020-03-27\",\n",
      "                \"canopy_condition\": \"leaf-off\",\n",
      "                \"height_m\": \"15.486\",\n",
      "                \"crown_base_height_m\": \"6.150\",\n",
      "                \"crown_projection_area_convex_hull_m2\": \"22.465\",\n",
      "                \"crown_projection_area_concave_hull_m2\": \"18.684\",\n",
      "                \"mean_crown_diameter_m\": \"5.809\"\n",
      "            },\n",
      "            {\n",
      "                \"crs\": \"epsg:25832\",\n",
      "                \"position_xyz\": [\n",
      "                    476775.5535,\n",
      "                    5429146.732,\n",
      "                    250.032257\n",
      "                ]\n",
      "            }\n",
      "        ],\n",
      "        \"measurements_metadata\": [\n",
      "            {}\n",
      "        ],\n",
      "        \"data\": [\n",
      "            {\n",
      "                \"type\": \"pointcloud\",\n",
      "                \"mode\": \"TLS\",\n",
      "                \"date\": \"2019-07-03\",\n",
      "                \"canopy_condition\": \"leaf-on\",\n",
      "                \"sensor\": \"RIEGL VZ-400\",\n",
      "                \"point_count\": 560804,\n",
      "                \"crs\": \"epsg:25832\",\n",
      "                \"file\": \"http://jjljljlj\",\n",
      "                \"metadata-url\": \"http://doi\",\n",
      "                \"quality\": \"2\"\n",
      "            },\n",
      "            {\n",
      "                \"type\": \"pointcloud\",\n",
      "                \"mode\": \"ALS\",\n",
      "                \"date\": \"2019-07-05\",\n",
      "                \"canopy_condition\": \"leaf-on\",\n",
      "                \"sensor\": \"RIEGL LMS-VQ780i\",\n",
      "                \"point_count\": 2259,\n",
      "                \"crs\": \"epsg:25832\",\n",
      "                \"file\": \"http://jjljljlj\",\n",
      "                \"metadata-url\": \"http://doi\",\n",
      "                \"quality\": \"2\"\n",
      "            },\n",
      "            {\n",
      "                \"type\": \"pointcloud\",\n",
      "                \"mode\": \"ULS\",\n",
      "                \"date\": \"2019-09-12\",\n",
      "                \"canopy_condition\": \"leaf-on\",\n",
      "                \"sensor\": \"RIEGL miniVUX-1UAV\",\n",
      "                \"point_count\": 7918,\n",
      "                \"crs\": \"epsg:25832\",\n",
      "                \"file\": \"http://jjljljlj\",\n",
      "                \"metadata-url\": \"http://doi\",\n",
      "                \"quality\": \"2\"\n",
      "            },\n",
      "            {\n",
      "                \"type\": \"pointcloud\",\n",
      "                \"mode\": \"ULS\",\n",
      "                \"date\": \"2019-12-04\",\n",
      "                \"canopy_condition\": \"leaf-off\",\n",
      "                \"sensor\": \"RIEGL miniVUX-1UAV\",\n",
      "                \"point_count\": 6982,\n",
      "                \"crs\": \"epsg:25832\",\n",
      "                \"file\": \"http://jjljljlj\",\n",
      "                \"metadata-url\": \"http://doi\",\n",
      "                \"quality\": \"2\"\n",
      "            },\n",
      "            {\n",
      "                \"type\": \"pointcloud\",\n",
      "                \"mode\": \"ULS\",\n",
      "                \"date\": \"2020-03-27\",\n",
      "                \"canopy_condition\": \"leaf-off\",\n",
      "                \"sensor\": \"RIEGL miniVUX-1UAV\",\n",
      "                \"point_count\": 10639,\n",
      "                \"crs\": \"epsg:25832\",\n",
      "                \"file\": \"http://jjljljlj\",\n",
      "                \"metadata-url\": \"http://doi\",\n",
      "                \"quality\": \"3\"\n",
      "            }\n",
      "        ]\n",
      "    },\n",
      "    \"geometry\": {\n",
      "        \"type\": \"Point\",\n",
      "        \"coordinates\": [\n",
      "            8.682383,\n",
      "            49.014774,\n",
      "            250.032257\n",
      "        ]\n",
      "    }\n",
      "}\n"
     ]
    }
   ],
   "source": [
    "print(\"One example:\\n\", json.dumps(query_res[0], indent=4))"
   ]
  },
  {
   "cell_type": "code",
   "execution_count": 12,
   "id": "10359181",
   "metadata": {},
   "outputs": [
    {
     "name": "stdout",
     "output_type": "stream",
     "text": [
      "['AbiAlb_BR03_01', 'AbiAlb_BR03_02', 'AbiAlb_BR03_03', 'AbiAlb_BR03_04', 'AbiAlb_BR03_P07T7', 'AbiAlb_BR03_P07T8', 'AbiAlb_BR03_P11T1', 'AbiAlb_BR03_P11T22', 'AbiAlb_BR03_P11T7', 'AbiAlb_BR03_P6Tree02', 'AbiAlb_BR03_P6Tree17', 'AbiAlb_BR03_P6Tree18', 'AbiAlb_BR03_P6Tree19', 'AbiAlb_BR03_P6Tree20', 'AbiAlb_BR03_P6Tree21', 'AbiAlb_BR03_P6Tree23', 'AbiAlb_BR03_P6Tree24', 'AbiAlb_BR03_P6Tree29', 'AbiAlb_BR03_P6Tree30', 'AbiAlb_BR03_P6Tree35', 'AbiAlb_SP02_01', 'AbiAlb_SP02_02', 'AbiAlb_SP02_03', 'AbiAlb_SP02_04', 'AbiAlb_SP02_05']\n"
     ]
    }
   ],
   "source": [
    "query_res = db.query_by_species('Abies alba')\n",
    "print(db.get_ids(query_res))"
   ]
  },
  {
   "cell_type": "markdown",
   "id": "8a193ff2",
   "metadata": {},
   "source": [
    "- Query by canopy condition"
   ]
  },
  {
   "cell_type": "code",
   "execution_count": 13,
   "id": "c7c9946f",
   "metadata": {},
   "outputs": [
    {
     "name": "stdout",
     "output_type": "stream",
     "text": [
      "Number of trees with data in condition 'leaf-off' : 1173\n"
     ]
    }
   ],
   "source": [
    "query_res = db.query('canopy_condition', 'leaf-off', False)  # exact value search\n",
    "print(\"Number of trees with data in condition 'leaf-off' :\", len(query_res))"
   ]
  },
  {
   "cell_type": "markdown",
   "id": "92c62e9a",
   "metadata": {},
   "source": [
    "- Query by quality indicator: Get all trees with point clouds of quality 2 or higher."
   ]
  },
  {
   "cell_type": "code",
   "execution_count": 14,
   "id": "7793c5fe",
   "metadata": {},
   "outputs": [
    {
     "name": "stdout",
     "output_type": "stream",
     "text": [
      "Query by numeric comparison - quality <= 2:  1080\n"
     ]
    }
   ],
   "source": [
    "print(\"Query by numeric comparison - quality <= 2: \", len(db.query_by_numeric_comparison('quality', 2, pytreedb.le)))"
   ]
  },
  {
   "cell_type": "markdown",
   "id": "8f4b05e1",
   "metadata": {},
   "source": [
    "- Query by existence of a tree metric (e.g. DBH)"
   ]
  },
  {
   "cell_type": "code",
   "execution_count": 15,
   "id": "53bf3635",
   "metadata": {},
   "outputs": [
    {
     "name": "stdout",
     "output_type": "stream",
     "text": [
      "Number of trees with property 'DBH_cm':  1247\n"
     ]
    }
   ],
   "source": [
    "print(\"Number of trees with property 'DBH_cm': \", len(db.query_by_key_exists('DBH_cm')))"
   ]
  },
  {
   "cell_type": "markdown",
   "id": "46fc08f1",
   "metadata": {},
   "source": [
    "- Query by acquisition date"
   ]
  },
  {
   "cell_type": "code",
   "execution_count": 16,
   "id": "8de9bf6a",
   "metadata": {},
   "outputs": [
    {
     "name": "stdout",
     "output_type": "stream",
     "text": [
      "Number of trees acquired on or after 2020-04-01:  62\n"
     ]
    }
   ],
   "source": [
    "print(\"Number of trees acquired on or after 2020-04-01: \", len(db.query_by_date('date','2020-04-01', pytreedb.ge)))\n"
   ]
  },
  {
   "cell_type": "markdown",
   "id": "dc8eb11b",
   "metadata": {},
   "source": [
    "- Query by geometry"
   ]
  },
  {
   "cell_type": "code",
   "execution_count": 17,
   "id": "770ab18f",
   "metadata": {},
   "outputs": [],
   "source": [
    "Bretten_coords = [[[8.679647386702298, 49.019748234404815], \n",
    "                    [8.718611305370995, 49.019748234404815], \n",
    "                    [8.718611305370995, 48.99458739860198], \n",
    "                    [8.679647386702298, 48.99458739860198], \n",
    "                    [8.679647386702298, 49.019748234404815]]]\n",
    "poly_dict = json.dumps(\n",
    "            {\"type\": \"Polygon\",\n",
    "             \"coordinates\": Bretten_coords\n",
    "            })"
   ]
  },
  {
   "cell_type": "code",
   "execution_count": 18,
   "id": "d5c14f1d",
   "metadata": {},
   "outputs": [
    {
     "data": {
      "text/html": [
       "<div style=\"width:100%;\"><div style=\"position:relative;width:100%;height:0;padding-bottom:60%;\"><span style=\"color:#565656\">Make this Notebook Trusted to load map: File -> Trust Notebook</span><iframe src=\"about:blank\" style=\"position:absolute;width:100%;height:100%;left:0;top:0;border:none !important;\" data-html=%3C%21DOCTYPE%20html%3E%0A%3Chead%3E%20%20%20%20%0A%20%20%20%20%3Cmeta%20http-equiv%3D%22content-type%22%20content%3D%22text/html%3B%20charset%3DUTF-8%22%20/%3E%0A%20%20%20%20%0A%20%20%20%20%20%20%20%20%3Cscript%3E%0A%20%20%20%20%20%20%20%20%20%20%20%20L_NO_TOUCH%20%3D%20false%3B%0A%20%20%20%20%20%20%20%20%20%20%20%20L_DISABLE_3D%20%3D%20false%3B%0A%20%20%20%20%20%20%20%20%3C/script%3E%0A%20%20%20%20%0A%20%20%20%20%3Cstyle%3Ehtml%2C%20body%20%7Bwidth%3A%20100%25%3Bheight%3A%20100%25%3Bmargin%3A%200%3Bpadding%3A%200%3B%7D%3C/style%3E%0A%20%20%20%20%3Cstyle%3E%23map%20%7Bposition%3Aabsolute%3Btop%3A0%3Bbottom%3A0%3Bright%3A0%3Bleft%3A0%3B%7D%3C/style%3E%0A%20%20%20%20%3Cscript%20src%3D%22https%3A//cdn.jsdelivr.net/npm/leaflet%401.6.0/dist/leaflet.js%22%3E%3C/script%3E%0A%20%20%20%20%3Cscript%20src%3D%22https%3A//code.jquery.com/jquery-1.12.4.min.js%22%3E%3C/script%3E%0A%20%20%20%20%3Cscript%20src%3D%22https%3A//maxcdn.bootstrapcdn.com/bootstrap/3.2.0/js/bootstrap.min.js%22%3E%3C/script%3E%0A%20%20%20%20%3Cscript%20src%3D%22https%3A//cdnjs.cloudflare.com/ajax/libs/Leaflet.awesome-markers/2.0.2/leaflet.awesome-markers.js%22%3E%3C/script%3E%0A%20%20%20%20%3Clink%20rel%3D%22stylesheet%22%20href%3D%22https%3A//cdn.jsdelivr.net/npm/leaflet%401.6.0/dist/leaflet.css%22/%3E%0A%20%20%20%20%3Clink%20rel%3D%22stylesheet%22%20href%3D%22https%3A//maxcdn.bootstrapcdn.com/bootstrap/3.2.0/css/bootstrap.min.css%22/%3E%0A%20%20%20%20%3Clink%20rel%3D%22stylesheet%22%20href%3D%22https%3A//maxcdn.bootstrapcdn.com/bootstrap/3.2.0/css/bootstrap-theme.min.css%22/%3E%0A%20%20%20%20%3Clink%20rel%3D%22stylesheet%22%20href%3D%22https%3A//maxcdn.bootstrapcdn.com/font-awesome/4.6.3/css/font-awesome.min.css%22/%3E%0A%20%20%20%20%3Clink%20rel%3D%22stylesheet%22%20href%3D%22https%3A//cdnjs.cloudflare.com/ajax/libs/Leaflet.awesome-markers/2.0.2/leaflet.awesome-markers.css%22/%3E%0A%20%20%20%20%3Clink%20rel%3D%22stylesheet%22%20href%3D%22https%3A//cdn.jsdelivr.net/gh/python-visualization/folium/folium/templates/leaflet.awesome.rotate.min.css%22/%3E%0A%20%20%20%20%0A%20%20%20%20%20%20%20%20%20%20%20%20%3Cmeta%20name%3D%22viewport%22%20content%3D%22width%3Ddevice-width%2C%0A%20%20%20%20%20%20%20%20%20%20%20%20%20%20%20%20initial-scale%3D1.0%2C%20maximum-scale%3D1.0%2C%20user-scalable%3Dno%22%20/%3E%0A%20%20%20%20%20%20%20%20%20%20%20%20%3Cstyle%3E%0A%20%20%20%20%20%20%20%20%20%20%20%20%20%20%20%20%23map_655aacf4c90e495b8950ef0925f34ad3%20%7B%0A%20%20%20%20%20%20%20%20%20%20%20%20%20%20%20%20%20%20%20%20position%3A%20relative%3B%0A%20%20%20%20%20%20%20%20%20%20%20%20%20%20%20%20%20%20%20%20width%3A%20100.0%25%3B%0A%20%20%20%20%20%20%20%20%20%20%20%20%20%20%20%20%20%20%20%20height%3A%20100.0%25%3B%0A%20%20%20%20%20%20%20%20%20%20%20%20%20%20%20%20%20%20%20%20left%3A%200.0%25%3B%0A%20%20%20%20%20%20%20%20%20%20%20%20%20%20%20%20%20%20%20%20top%3A%200.0%25%3B%0A%20%20%20%20%20%20%20%20%20%20%20%20%20%20%20%20%7D%0A%20%20%20%20%20%20%20%20%20%20%20%20%3C/style%3E%0A%20%20%20%20%20%20%20%20%0A%3C/head%3E%0A%3Cbody%3E%20%20%20%20%0A%20%20%20%20%0A%20%20%20%20%20%20%20%20%20%20%20%20%3Cdiv%20class%3D%22folium-map%22%20id%3D%22map_655aacf4c90e495b8950ef0925f34ad3%22%20%3E%3C/div%3E%0A%20%20%20%20%20%20%20%20%0A%3C/body%3E%0A%3Cscript%3E%20%20%20%20%0A%20%20%20%20%0A%20%20%20%20%20%20%20%20%20%20%20%20var%20map_655aacf4c90e495b8950ef0925f34ad3%20%3D%20L.map%28%0A%20%20%20%20%20%20%20%20%20%20%20%20%20%20%20%20%22map_655aacf4c90e495b8950ef0925f34ad3%22%2C%0A%20%20%20%20%20%20%20%20%20%20%20%20%20%20%20%20%7B%0A%20%20%20%20%20%20%20%20%20%20%20%20%20%20%20%20%20%20%20%20center%3A%20%5B49.00772676282502%2C%208.701981844725482%5D%2C%0A%20%20%20%20%20%20%20%20%20%20%20%20%20%20%20%20%20%20%20%20crs%3A%20L.CRS.EPSG3857%2C%0A%20%20%20%20%20%20%20%20%20%20%20%20%20%20%20%20%20%20%20%20zoom%3A%2011%2C%0A%20%20%20%20%20%20%20%20%20%20%20%20%20%20%20%20%20%20%20%20zoomControl%3A%20true%2C%0A%20%20%20%20%20%20%20%20%20%20%20%20%20%20%20%20%20%20%20%20preferCanvas%3A%20false%2C%0A%20%20%20%20%20%20%20%20%20%20%20%20%20%20%20%20%7D%0A%20%20%20%20%20%20%20%20%20%20%20%20%29%3B%0A%0A%20%20%20%20%20%20%20%20%20%20%20%20%0A%0A%20%20%20%20%20%20%20%20%0A%20%20%20%20%0A%20%20%20%20%20%20%20%20%20%20%20%20var%20tile_layer_56bf1ec2ca3d46e6ba6fa22d7515f611%20%3D%20L.tileLayer%28%0A%20%20%20%20%20%20%20%20%20%20%20%20%20%20%20%20%22https%3A//%7Bs%7D.tile.openstreetmap.org/%7Bz%7D/%7Bx%7D/%7By%7D.png%22%2C%0A%20%20%20%20%20%20%20%20%20%20%20%20%20%20%20%20%7B%22attribution%22%3A%20%22Data%20by%20%5Cu0026copy%3B%20%5Cu003ca%20href%3D%5C%22http%3A//openstreetmap.org%5C%22%5Cu003eOpenStreetMap%5Cu003c/a%5Cu003e%2C%20under%20%5Cu003ca%20href%3D%5C%22http%3A//www.openstreetmap.org/copyright%5C%22%5Cu003eODbL%5Cu003c/a%5Cu003e.%22%2C%20%22detectRetina%22%3A%20false%2C%20%22maxNativeZoom%22%3A%2018%2C%20%22maxZoom%22%3A%2018%2C%20%22minZoom%22%3A%200%2C%20%22noWrap%22%3A%20false%2C%20%22opacity%22%3A%201%2C%20%22subdomains%22%3A%20%22abc%22%2C%20%22tms%22%3A%20false%7D%0A%20%20%20%20%20%20%20%20%20%20%20%20%29.addTo%28map_655aacf4c90e495b8950ef0925f34ad3%29%3B%0A%20%20%20%20%20%20%20%20%0A%20%20%20%20%0A%0A%20%20%20%20%20%20%20%20function%20geo_json_df9b52ff7cf94e9d93eea62f33c376f9_onEachFeature%28feature%2C%20layer%29%20%7B%0A%20%20%20%20%20%20%20%20%20%20%20%20layer.on%28%7B%0A%20%20%20%20%20%20%20%20%20%20%20%20%7D%29%3B%0A%20%20%20%20%20%20%20%20%7D%3B%0A%20%20%20%20%20%20%20%20var%20geo_json_df9b52ff7cf94e9d93eea62f33c376f9%20%3D%20L.geoJson%28null%2C%20%7B%0A%20%20%20%20%20%20%20%20%20%20%20%20%20%20%20%20onEachFeature%3A%20geo_json_df9b52ff7cf94e9d93eea62f33c376f9_onEachFeature%2C%0A%20%20%20%20%20%20%20%20%20%20%20%20%0A%20%20%20%20%20%20%20%20%7D%29%3B%0A%0A%20%20%20%20%20%20%20%20function%20geo_json_df9b52ff7cf94e9d93eea62f33c376f9_add%20%28data%29%20%7B%0A%20%20%20%20%20%20%20%20%20%20%20%20geo_json_df9b52ff7cf94e9d93eea62f33c376f9%0A%20%20%20%20%20%20%20%20%20%20%20%20%20%20%20%20.addData%28data%29%0A%20%20%20%20%20%20%20%20%20%20%20%20%20%20%20%20.addTo%28map_655aacf4c90e495b8950ef0925f34ad3%29%3B%0A%20%20%20%20%20%20%20%20%7D%0A%20%20%20%20%20%20%20%20%20%20%20%20geo_json_df9b52ff7cf94e9d93eea62f33c376f9_add%28%7B%22coordinates%22%3A%20%5B%5B%5B8.679647386702298%2C%2049.019748234404815%5D%2C%20%5B8.718611305370995%2C%2049.019748234404815%5D%2C%20%5B8.718611305370995%2C%2048.99458739860198%5D%2C%20%5B8.679647386702298%2C%2048.99458739860198%5D%2C%20%5B8.679647386702298%2C%2049.019748234404815%5D%5D%5D%2C%20%22type%22%3A%20%22Polygon%22%7D%29%3B%0A%0A%20%20%20%20%20%20%20%20%0A%3C/script%3E onload=\"this.contentDocument.open();this.contentDocument.write(    decodeURIComponent(this.getAttribute('data-html')));this.contentDocument.close();\" allowfullscreen webkitallowfullscreen mozallowfullscreen></iframe></div></div>"
      ],
      "text/plain": [
       "<folium.folium.Map at 0x26381f910a0>"
      ]
     },
     "execution_count": 18,
     "metadata": {},
     "output_type": "execute_result"
    }
   ],
   "source": [
    "geom = json.loads(poly_dict)\n",
    "search_geom = shapely.geometry.shape(geom)\n",
    "\n",
    "m = folium.Map([49.00772676282502, 8.701981844725482], zoom_start=11)\n",
    "folium.GeoJson(search_geom).add_to(m)\n",
    "m"
   ]
  },
  {
   "cell_type": "code",
   "execution_count": 19,
   "id": "8362507e",
   "metadata": {},
   "outputs": [
    {
     "name": "stdout",
     "output_type": "stream",
     "text": [
      "Distance search:  1101\n"
     ]
    }
   ],
   "source": [
    "print(\"Distance search: \", len(db.query_by_geometry(poly_dict, distance=0.0)))"
   ]
  },
  {
   "cell_type": "markdown",
   "id": "0bb06680",
   "metadata": {},
   "source": [
    "- Do several queries and join results using a logical operator"
   ]
  },
  {
   "cell_type": "code",
   "execution_count": 20,
   "id": "47ee25ae",
   "metadata": {
    "scrolled": true
   },
   "outputs": [
    {
     "name": "stdout",
     "output_type": "stream",
     "text": [
      "Acer with TLS data:\n",
      " ['AcePse_SP02_09', 'AcePse_KA11_01', 'AcePse_SP02_11', 'AcePse_KA09_T049', 'AcePse_BR03_02', 'AcePse_BR08_04', 'AcePse_BR03_01', 'AcePse_BR08_02', 'AcePse_SP02_12', 'AcePse_SP02_04', 'AcePse_SP02_01', 'AcePse_BR08_03', 'AcePse_BR03_03', 'AcePse_SP02_02', 'AcePse_SP02_15', 'AcePse_BR03_06', 'AcePse_BR03_04', 'AcePse_BR03_05', 'AcePse_SP02_14', 'AcePse_SP02_10', 'AcePse_BR03_P16T12', 'AcePse_SP02_05', 'AcePse_SP02_06', 'AcePse_BR08_01', 'AcePse_SP02_13', 'AcePse_SP02_08', 'AcePse_SP02_07', 'AcePse_SP02_03']\n"
     ]
    }
   ],
   "source": [
    "#Query example: Select tree species AND\n",
    "res_fagus = db.query('species', 'Acer')\n",
    "res_ALS = db.query('mode', 'TLS')\n",
    "res_fagus_ALS =  db.join([res_fagus, res_ALS], operator='and')\n",
    "print(\"Acer with TLS data:\\n\",res_fagus_ALS)"
   ]
  },
  {
   "cell_type": "markdown",
   "id": "bb8ff895",
   "metadata": {},
   "source": [
    "## Export DB or subset"
   ]
  },
  {
   "cell_type": "code",
   "execution_count": 22,
   "id": "1d3099e8",
   "metadata": {},
   "outputs": [
    {
     "name": "stdout",
     "output_type": "stream",
     "text": [
      "d:/tmp/SYSSIFOSS/tmp\\AbiAlb_BR03_02.geojson\n",
      "d:/tmp/SYSSIFOSS/tmp\\AbiAlb_BR03_P07T8.geojson\n"
     ]
    }
   ],
   "source": [
    "db.export_data('d:/tmp/SYSSIFOSS/tmp', trees=[1,5])     # Export only subset"
   ]
  },
  {
   "cell_type": "code",
   "execution_count": null,
   "id": "8227719a",
   "metadata": {},
   "outputs": [],
   "source": []
  },
  {
   "cell_type": "code",
   "execution_count": null,
   "id": "83398c14",
   "metadata": {},
   "outputs": [],
   "source": []
  },
  {
   "cell_type": "code",
   "execution_count": null,
   "id": "2eed457f",
   "metadata": {},
   "outputs": [],
   "source": []
  }
 ],
 "metadata": {
  "kernelspec": {
   "display_name": "Python 3 (ipykernel)",
   "language": "python",
   "name": "python3"
  },
  "language_info": {
   "codemirror_mode": {
    "name": "ipython",
    "version": 3
   },
   "file_extension": ".py",
   "mimetype": "text/x-python",
   "name": "python",
   "nbconvert_exporter": "python",
   "pygments_lexer": "ipython3",
   "version": "3.8.12"
  }
 },
 "nbformat": 4,
 "nbformat_minor": 5
}
