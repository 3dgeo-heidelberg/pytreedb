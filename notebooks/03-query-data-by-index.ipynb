{
 "cells": [
  {
   "cell_type": "markdown",
   "id": "f4507df5",
   "metadata": {},
   "source": [
    "# Querying data"
   ]
  },
  {
   "cell_type": "markdown",
   "id": "2f60b42a",
   "metadata": {},
   "source": [
    "## Package imports"
   ]
  },
  {
   "cell_type": "code",
   "execution_count": null,
   "id": "3335c40a",
   "metadata": {},
   "outputs": [],
   "source": [
    "import sys\n",
    "import json\n",
    "\n",
    "sys.path.append(\"..\")\n",
    "from pytreedb import db"
   ]
  },
  {
   "cell_type": "markdown",
   "id": "db021bf0",
   "metadata": {},
   "source": [
    "## Importing data"
   ]
  },
  {
   "cell_type": "markdown",
   "id": "c5ed3cac",
   "metadata": {},
   "source": [
    "Specify the file where database is stored locally additionally to MongoDB (see `./01-import-data.ipynb`)."
   ]
  },
  {
   "cell_type": "code",
   "execution_count": null,
   "id": "e860d4c9",
   "metadata": {},
   "outputs": [],
   "source": [
    "mydbfile = \"my_query_pytree.db\""
   ]
  },
  {
   "cell_type": "markdown",
   "id": "4363d331",
   "metadata": {},
   "source": [
    "Define (local) MongoDB connection"
   ]
  },
  {
   "cell_type": "code",
   "execution_count": null,
   "id": "8f7d696e",
   "metadata": {},
   "outputs": [],
   "source": [
    "mydb = db.PyTreeDB(dbfile=mydbfile)"
   ]
  },
  {
   "cell_type": "code",
   "execution_count": null,
   "id": "f6319c69",
   "metadata": {},
   "outputs": [],
   "source": [
    "mydb.import_db(\"../data/test/data.db\", overwrite=False)"
   ]
  },
  {
   "cell_type": "markdown",
   "id": "43f8df3d",
   "metadata": {},
   "source": [
    "## Access objects via index"
   ]
  },
  {
   "cell_type": "markdown",
   "id": "cfb574ca",
   "metadata": {},
   "source": [
    "Get single tree object with index"
   ]
  },
  {
   "cell_type": "code",
   "execution_count": null,
   "id": "74469151",
   "metadata": {},
   "outputs": [],
   "source": [
    "mydb[0]"
   ]
  },
  {
   "cell_type": "markdown",
   "id": "fc089cb0",
   "metadata": {},
   "source": [
    "Get several tree objects by providing list of indices (e.g., first and fourth tree object in the DB)"
   ]
  },
  {
   "cell_type": "code",
   "execution_count": null,
   "id": "acbb0ce1",
   "metadata": {},
   "outputs": [],
   "source": [
    "mydb[[0, 3]]"
   ]
  },
  {
   "cell_type": "markdown",
   "id": "2f13321b",
   "metadata": {},
   "source": [
    "What were the names of the GeoJSON files of the first four trees?"
   ]
  },
  {
   "cell_type": "code",
   "execution_count": null,
   "id": "2bc79c6c",
   "metadata": {},
   "outputs": [],
   "source": [
    "[obj[\"_file\"] for obj in mydb[:4]]"
   ]
  },
  {
   "cell_type": "markdown",
   "id": "10efdc75",
   "metadata": {},
   "source": [
    "When was the first tree object added to the pytreedb?"
   ]
  },
  {
   "cell_type": "code",
   "execution_count": null,
   "id": "c3d49acc",
   "metadata": {},
   "outputs": [],
   "source": [
    "mydb[0][\"_date\"]"
   ]
  },
  {
   "cell_type": "markdown",
   "id": "8650b338",
   "metadata": {},
   "source": [
    "Let's have a look at the measurements of the first three trees."
   ]
  },
  {
   "cell_type": "code",
   "execution_count": null,
   "id": "01658c14",
   "metadata": {},
   "outputs": [],
   "source": [
    "for t in mydb[:3]:\n",
    "    print(f\"All measurements for tree (id={t['properties']['id']})\")\n",
    "    print(\"----------------------------------------\")\n",
    "    print(json.dumps(t[\"properties\"][\"measurements\"], indent=4))"
   ]
  }
 ],
 "metadata": {
  "kernelspec": {
   "display_name": "Python 3 (ipykernel)",
   "language": "python",
   "name": "python3"
  },
  "language_info": {
   "codemirror_mode": {
    "name": "ipython",
    "version": 3
   },
   "file_extension": ".py",
   "mimetype": "text/x-python",
   "name": "python",
   "nbconvert_exporter": "python",
   "pygments_lexer": "ipython3",
   "version": "3.9.10"
  }
 },
 "nbformat": 4,
 "nbformat_minor": 5
}
