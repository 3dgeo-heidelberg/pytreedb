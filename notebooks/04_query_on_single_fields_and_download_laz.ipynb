{
 "cells": [
  {
   "cell_type": "markdown",
   "id": "020700fd",
   "metadata": {},
   "source": [
    "# Data queries on single fields and download of LAZ point clouds"
   ]
  },
  {
   "cell_type": "markdown",
   "id": "62bfe3fb",
   "metadata": {},
   "source": [
    "## Package imports"
   ]
  },
  {
   "cell_type": "code",
   "execution_count": null,
   "id": "d6f6b8a2",
   "metadata": {},
   "outputs": [],
   "source": [
    "import sys\n",
    "from pathlib import Path\n",
    "import urllib.request\n",
    "\n",
    "sys.path.append(\"..\")\n",
    "from pytreedb import db"
   ]
  },
  {
   "cell_type": "markdown",
   "id": "1618dfb5",
   "metadata": {},
   "source": [
    "## Import data"
   ]
  },
  {
   "cell_type": "markdown",
   "id": "ef364189",
   "metadata": {},
   "source": [
    "Specify the file where database is stored locally additionally to MongoDB."
   ]
  },
  {
   "cell_type": "code",
   "execution_count": null,
   "id": "0e129790",
   "metadata": {},
   "outputs": [],
   "source": [
    "mydbfile = \"my_first_pytree.db\""
   ]
  },
  {
   "cell_type": "markdown",
   "id": "8aeec94f",
   "metadata": {},
   "source": [
    "Specify the location of the data to be imported. Here, we use a URL to a zipped folder with GeoJSON files for each tree to be added. You can also provide the path to a local directory containing the GeoJSON files."
   ]
  },
  {
   "cell_type": "code",
   "execution_count": null,
   "id": "32f4be38",
   "metadata": {},
   "outputs": [],
   "source": [
    "data_url = \"https://github.com/3dgeo-heidelberg/pytreedb/raw/main/data/test/geojsons.zip\""
   ]
  },
  {
   "cell_type": "markdown",
   "id": "9b169241",
   "metadata": {},
   "source": [
    "Define the (local) MongoDB connection and import data into pytreedb from URL."
   ]
  },
  {
   "cell_type": "code",
   "execution_count": null,
   "id": "fd0d3ace",
   "metadata": {},
   "outputs": [],
   "source": [
    "mydb = db.PyTreeDB(dbfile=mydbfile)\n",
    "mydb.import_data(data_url, overwrite=True)"
   ]
  },
  {
   "cell_type": "markdown",
   "id": "a3b14b9c",
   "metadata": {},
   "source": [
    "## Query data"
   ]
  },
  {
   "cell_type": "markdown",
   "id": "a2aa11a8",
   "metadata": {},
   "source": [
    "We can query data by providing a filter dictionary.\n",
    "\n",
    "In a first example, let's extract all trees of the species _Abies alba_ and print their tree IDs:"
   ]
  },
  {
   "cell_type": "code",
   "execution_count": null,
   "id": "6ce69fcf",
   "metadata": {},
   "outputs": [],
   "source": [
    "res = mydb.query({\"properties.species\": \"Abies alba\"})\n",
    "print(len(res))\n",
    "[tree[\"properties\"][\"id\"] for tree in res]"
   ]
  },
  {
   "cell_type": "markdown",
   "id": "d2f9e774",
   "metadata": {},
   "source": [
    "For how many trees do we have point cloud data of quality 1 (= highest quality)?"
   ]
  },
  {
   "cell_type": "code",
   "execution_count": null,
   "id": "9e9f08e8",
   "metadata": {},
   "outputs": [],
   "source": [
    "len(mydb.query({\"properties.data.quality\": 1}))"
   ]
  },
  {
   "cell_type": "markdown",
   "id": "ab906248",
   "metadata": {},
   "source": [
    "Now what if we want all trees with point clouds with a quality \"grade\" equal to or better than 2? We can do this by using numerical comparisons in our queries. \n",
    "\n",
    "- `$gt` = Matches values that are **greater than** a specified value\n",
    "- `$gte` = Matches values that are **greater than or equal to** a specified value\n",
    "- `$lt` = Matches values that are **less than** a specified value.\n",
    "- `$lte` = Matches values that are **less than or equal to** a specified value.\n",
    "- `$eq` = Matches values that are **equal to** a specified value.\n",
    "- `$ne` = Matches all values that are **not equal to** a specified value.\n",
    "- `$in` = matches **any** of the values specified **in an array**\n",
    "- `$nin` = matches **none** of the values specified **in an array**"
   ]
  },
  {
   "cell_type": "code",
   "execution_count": null,
   "id": "233c8cf4",
   "metadata": {},
   "outputs": [],
   "source": [
    "len(mydb.query({\"properties.data.quality\": {\"$lte\": 2}}))"
   ]
  },
  {
   "cell_type": "markdown",
   "id": "08dc9cd3",
   "metadata": {},
   "source": [
    "Our trees have measurements (possibly recorded or estimated from different data sources). We can also query by these tree measurements. Let's find out how many trees are taller than 40 meters."
   ]
  },
  {
   "cell_type": "code",
   "execution_count": null,
   "id": "4cf987cb",
   "metadata": {},
   "outputs": [],
   "source": [
    "len(mydb.query({\"properties.measurements.height_m\": {\"$gt\": 40}}))"
   ]
  },
  {
   "cell_type": "markdown",
   "id": "9c0e583c",
   "metadata": {},
   "source": [
    "When we filter the trees by certain parameters, we are probably interested in downloading the tree point clouds to use them for our own analyses or applications.\n",
    "\n",
    "Let's define some functions for downloading files from a URL."
   ]
  },
  {
   "cell_type": "code",
   "execution_count": null,
   "id": "43a41854",
   "metadata": {},
   "outputs": [],
   "source": [
    "def reporthook(count, block_size, total_size):\n",
    "    percent = min(int(count * block_size * 100 / total_size), 100)\n",
    "    print(\"\\r...{}%\".format(percent), end=\"\")\n",
    "\n",
    "\n",
    "def download_data(filename, url):\n",
    "    if not Path(filename).exists():\n",
    "        print(f\"Downloading data from '{url}' to '{filename}'. Please wait ...\")\n",
    "        if not Path(filename).parent.exists():\n",
    "            Path(filename).parent.mkdir()\n",
    "        urllib.request.urlretrieve(url, filename, reporthook=reporthook)\n",
    "        print(\"\\nDownload finished\")\n",
    "    else:\n",
    "        print(\"File already exists. Great!\")"
   ]
  },
  {
   "cell_type": "markdown",
   "id": "bce022cc",
   "metadata": {},
   "source": [
    "Next, we define an output folder. Change the value in the next cell to download the data to a different location."
   ]
  },
  {
   "cell_type": "code",
   "execution_count": null,
   "id": "1641cf2a",
   "metadata": {},
   "outputs": [],
   "source": [
    "output_folder = \"../temp\""
   ]
  },
  {
   "cell_type": "markdown",
   "id": "54b821ae",
   "metadata": {},
   "source": [
    "We now get all trees which are taller than 50 m using a query. We then create a list of download URLs, which are retrieved from the tree dictionaries. Finally, we download the data to our output folder."
   ]
  },
  {
   "cell_type": "code",
   "execution_count": null,
   "id": "8c627d24",
   "metadata": {},
   "outputs": [],
   "source": [
    "query_res = mydb.query({\"properties.measurements.height_m\": {\"$gt\": 50}})\n",
    "download_links = mydb.get_pointcloud_urls(query_res)\n",
    "\n",
    "for url in download_links:\n",
    "    download_data(Path(output_folder) / url.split(\"/\")[-1], url)"
   ]
  }
 ],
 "metadata": {
  "kernelspec": {
   "display_name": "Python 3 (ipykernel)",
   "language": "python",
   "name": "python3"
  },
  "language_info": {
   "codemirror_mode": {
    "name": "ipython",
    "version": 3
   },
   "file_extension": ".py",
   "mimetype": "text/x-python",
   "name": "python",
   "nbconvert_exporter": "python",
   "pygments_lexer": "ipython3",
   "version": "3.9.12"
  }
 },
 "nbformat": 4,
 "nbformat_minor": 5
}
