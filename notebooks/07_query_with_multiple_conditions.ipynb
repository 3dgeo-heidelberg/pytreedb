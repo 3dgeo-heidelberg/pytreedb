{
 "cells": [
  {
   "cell_type": "markdown",
   "id": "e73b46b3",
   "metadata": {},
   "source": [
    "# Query data based on multiple conditions"
   ]
  },
  {
   "cell_type": "markdown",
   "id": "6bd4dd65",
   "metadata": {},
   "source": [
    "## Package imports"
   ]
  },
  {
   "cell_type": "code",
   "execution_count": null,
   "id": "764bc15a",
   "metadata": {},
   "outputs": [],
   "source": [
    "import sys\n",
    "\n",
    "sys.path.append(\"..\")\n",
    "from pytreedb import db"
   ]
  },
  {
   "cell_type": "markdown",
   "id": "d2aed5d5",
   "metadata": {},
   "source": [
    "Define (local) MongoDB connection and import database from URL"
   ]
  },
  {
   "cell_type": "code",
   "execution_count": null,
   "id": "6c8596a1",
   "metadata": {},
   "outputs": [],
   "source": [
    "mydbfile = \"my_complex_query_pytree.db\"\n",
    "db_url = \"https://github.com/3dgeo-heidelberg/pytreedb/raw/main/data/test/data.db\"\n",
    "mydb = db.PyTreeDB(dbfile=mydbfile)\n",
    "mydb.import_db(db_url, overwrite=False)"
   ]
  },
  {
   "cell_type": "markdown",
   "id": "3cc0186b",
   "metadata": {},
   "source": [
    "## Queries with logical operator between conditions"
   ]
  },
  {
   "cell_type": "code",
   "execution_count": null,
   "id": "7aceb32e",
   "metadata": {},
   "outputs": [],
   "source": []
  }
 ],
 "metadata": {
  "kernelspec": {
   "display_name": "Python 3 (ipykernel)",
   "language": "python",
   "name": "python3"
  },
  "language_info": {
   "codemirror_mode": {
    "name": "ipython",
    "version": 3
   },
   "file_extension": ".py",
   "mimetype": "text/x-python",
   "name": "python",
   "nbconvert_exporter": "python",
   "pygments_lexer": "ipython3",
   "version": "3.9.10"
  }
 },
 "nbformat": 4,
 "nbformat_minor": 5
}
