{
 "cells": [
  {
   "cell_type": "markdown",
   "id": "e73b46b3",
   "metadata": {},
   "source": [
    "# Visualize and analyze data"
   ]
  },
  {
   "cell_type": "markdown",
   "id": "6bd4dd65",
   "metadata": {},
   "source": [
    "## Package imports"
   ]
  },
  {
   "cell_type": "code",
   "execution_count": null,
   "id": "764bc15a",
   "metadata": {},
   "outputs": [],
   "source": [
    "import sys\n",
    "import sys\n",
    "!conda install -c conda-forge --yes --prefix {sys.prefix} laspy\n",
    "import laspy\n",
    "import numpy as np\n",
    "\n",
    "sys.path.append(\"..\")\n",
    "from pytreedb import db"
   ]
  },
  {
   "cell_type": "markdown",
   "id": "ff21f15e",
   "metadata": {},
   "source": [
    "## Import database"
   ]
  },
  {
   "cell_type": "markdown",
   "id": "d2aed5d5",
   "metadata": {},
   "source": [
    "Define (local) MongoDB connection and import database from URL"
   ]
  },
  {
   "cell_type": "code",
   "execution_count": null,
   "id": "6c8596a1",
   "metadata": {},
   "outputs": [],
   "source": [
    "mydbfile = \"my_complex_query_pytree.db\"\n",
    "db_url = \"https://github.com/3dgeo-heidelberg/pytreedb/raw/main/data/test/data.db\"\n",
    "mydb = db.PyTreeDB(dbfile=mydbfile)\n",
    "mydb.import_db(db_url, overwrite=True)"
   ]
  },
  {
   "cell_type": "markdown",
   "id": "3cc0186b",
   "metadata": {},
   "source": [
    "## Show data on a map"
   ]
  },
  {
   "cell_type": "markdown",
   "id": "902a14ad",
   "metadata": {},
   "source": [
    "See `query_by_geometry.ipynb`"
   ]
  },
  {
   "cell_type": "markdown",
   "id": "0e77be3b",
   "metadata": {},
   "source": [
    "## Bar plots and Histograms"
   ]
  },
  {
   "cell_type": "markdown",
   "id": "f24f6a71",
   "metadata": {},
   "source": [
    "Available trees for each data source"
   ]
  },
  {
   "cell_type": "markdown",
   "id": "d377946b",
   "metadata": {},
   "source": [
    "Histograms of tree height/DBH/etc."
   ]
  },
  {
   "cell_type": "markdown",
   "id": "6747a600",
   "metadata": {},
   "source": [
    "## Venn diagram?"
   ]
  },
  {
   "cell_type": "markdown",
   "id": "c52c62e8",
   "metadata": {},
   "source": [
    "## Scatter plot of metrics"
   ]
  },
  {
   "cell_type": "markdown",
   "id": "fd8fe748",
   "metadata": {},
   "source": [
    "Plot DBH against tree height"
   ]
  },
  {
   "cell_type": "markdown",
   "id": "45d10485",
   "metadata": {},
   "source": [
    "Compare crown diameter to tree height ratio for different species"
   ]
  },
  {
   "cell_type": "markdown",
   "id": "9489339a",
   "metadata": {},
   "source": [
    "Scatter plots of metrics obtained from different sources"
   ]
  },
  {
   "cell_type": "markdown",
   "id": "de0f8d59",
   "metadata": {},
   "source": [
    "## 3D plots of point clouds"
   ]
  },
  {
   "cell_type": "code",
   "execution_count": null,
   "id": "ca8371c5",
   "metadata": {},
   "outputs": [],
   "source": [
    "# pypotree / PPTK / Open3D / PyntCloud / matplotlib ?"
   ]
  },
  {
   "cell_type": "code",
   "execution_count": null,
   "id": "3054bacd",
   "metadata": {},
   "outputs": [],
   "source": []
  }
 ],
 "metadata": {
  "kernelspec": {
   "display_name": "Python 3 (ipykernel)",
   "language": "python",
   "name": "python3"
  },
  "language_info": {
   "codemirror_mode": {
    "name": "ipython",
    "version": 3
   },
   "file_extension": ".py",
   "mimetype": "text/x-python",
   "name": "python",
   "nbconvert_exporter": "python",
   "pygments_lexer": "ipython3",
   "version": "3.9.12"
  }
 },
 "nbformat": 4,
 "nbformat_minor": 5
}
