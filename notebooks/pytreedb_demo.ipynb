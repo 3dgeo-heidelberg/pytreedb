{
 "cells": [
  {
   "cell_type": "markdown",
   "id": "7eb95b01",
   "metadata": {},
   "source": [
    "# Backend Demo pytreedb"
   ]
  },
  {
   "cell_type": "markdown",
   "id": "da65fb3b",
   "metadata": {},
   "source": [
    "## Import data"
   ]
  },
  {
   "cell_type": "markdown",
   "id": "1bec614f",
   "metadata": {},
   "source": [
    "Package imports"
   ]
  },
  {
   "cell_type": "code",
   "execution_count": null,
   "id": "08eed2be",
   "metadata": {},
   "outputs": [],
   "source": [
    "import pytreedb.db as pytreedb\n",
    "import json\n",
    "import shapely\n",
    "import folium\n",
    "\n",
    "# import matplotlib.pyplot as plt"
   ]
  },
  {
   "cell_type": "markdown",
   "id": "e3263864",
   "metadata": {},
   "source": [
    "Initiate a PyTreeDB and import data from ZIP web resource"
   ]
  },
  {
   "cell_type": "code",
   "execution_count": null,
   "id": "b24fe4cf",
   "metadata": {},
   "outputs": [],
   "source": [
    "db = pytreedb.PyTreeDB(dbfile=r\"tmp\\SYSSIFOSS\\test.db\")\n",
    "db.import_data(\n",
    "    r\"https://heibox.uni-heidelberg.de/f/05969694cbed4c41bcb8/?dl=1\", overwrite=True\n",
    ")"
   ]
  },
  {
   "cell_type": "markdown",
   "id": "e7e28826",
   "metadata": {},
   "source": [
    "## Print statistics"
   ]
  },
  {
   "cell_type": "markdown",
   "id": "b166a6ac",
   "metadata": {},
   "source": [
    "Print statistics (number of trees and species)"
   ]
  },
  {
   "cell_type": "code",
   "execution_count": null,
   "id": "07f3da53",
   "metadata": {},
   "outputs": [],
   "source": [
    "print(db.get_stats())"
   ]
  },
  {
   "cell_type": "markdown",
   "id": "815d1fd5",
   "metadata": {},
   "source": [
    "Print a list of species."
   ]
  },
  {
   "cell_type": "code",
   "execution_count": null,
   "id": "ae73accf",
   "metadata": {},
   "outputs": [],
   "source": [
    "print(db.get_list_species())"
   ]
  },
  {
   "cell_type": "markdown",
   "id": "9a579cb3",
   "metadata": {},
   "source": [
    "## Query the DB"
   ]
  },
  {
   "cell_type": "markdown",
   "id": "e14b0adf",
   "metadata": {},
   "source": [
    "- Query by species"
   ]
  },
  {
   "cell_type": "code",
   "execution_count": null,
   "id": "d8d9a7b7",
   "metadata": {},
   "outputs": [],
   "source": [
    "query_res = db.query_by_species(\"Quercus\")\n",
    "print(\"Number of trees of Genus Quercus:\", len(query_res))"
   ]
  },
  {
   "cell_type": "code",
   "execution_count": null,
   "id": "b7e803db",
   "metadata": {},
   "outputs": [],
   "source": [
    "print(\"One example:\\n\", json.dumps(query_res[0], indent=4))"
   ]
  },
  {
   "cell_type": "code",
   "execution_count": null,
   "id": "10359181",
   "metadata": {},
   "outputs": [],
   "source": [
    "query_res = db.query_by_species(\"Abies alba\")\n",
    "print(db.get_ids(query_res))"
   ]
  },
  {
   "cell_type": "markdown",
   "id": "8a193ff2",
   "metadata": {},
   "source": [
    "- Query by canopy condition"
   ]
  },
  {
   "cell_type": "code",
   "execution_count": null,
   "id": "c7c9946f",
   "metadata": {},
   "outputs": [],
   "source": [
    "query_res = db.query(\"canopy_condition\", \"leaf-off\", False)  # exact value search\n",
    "print(\"Number of trees with data in condition 'leaf-off' :\", len(query_res))"
   ]
  },
  {
   "cell_type": "markdown",
   "id": "92c62e9a",
   "metadata": {},
   "source": [
    "- Query by quality indicator: Get all trees with point clouds of quality 2 or higher."
   ]
  },
  {
   "cell_type": "code",
   "execution_count": null,
   "id": "7793c5fe",
   "metadata": {},
   "outputs": [],
   "source": [
    "print(\n",
    "    \"Query by numeric comparison - quality <= 2: \",\n",
    "    len(db.query_by_numeric_comparison(\"quality\", 2, pytreedb.le)),\n",
    ")"
   ]
  },
  {
   "cell_type": "markdown",
   "id": "8f4b05e1",
   "metadata": {},
   "source": [
    "- Query by existence of a tree metric (e.g. DBH)"
   ]
  },
  {
   "cell_type": "code",
   "execution_count": null,
   "id": "53bf3635",
   "metadata": {},
   "outputs": [],
   "source": [
    "print(\"Number of trees with property 'DBH_cm': \", len(db.query_by_key_exists(\"DBH_cm\")))"
   ]
  },
  {
   "cell_type": "markdown",
   "id": "46fc08f1",
   "metadata": {},
   "source": [
    "- Query by acquisition date"
   ]
  },
  {
   "cell_type": "code",
   "execution_count": null,
   "id": "8de9bf6a",
   "metadata": {},
   "outputs": [],
   "source": [
    "print(\n",
    "    \"Number of trees acquired on or after 2020-04-01: \",\n",
    "    len(db.query_by_date(\"date\", \"2020-04-01\", pytreedb.ge)),\n",
    ")"
   ]
  },
  {
   "cell_type": "markdown",
   "id": "dc8eb11b",
   "metadata": {},
   "source": [
    "- Query by geometry"
   ]
  },
  {
   "cell_type": "code",
   "execution_count": null,
   "id": "770ab18f",
   "metadata": {},
   "outputs": [],
   "source": [
    "Bretten_coords = [\n",
    "    [\n",
    "        [8.679647386702298, 49.019748234404815],\n",
    "        [8.718611305370995, 49.019748234404815],\n",
    "        [8.718611305370995, 48.99458739860198],\n",
    "        [8.679647386702298, 48.99458739860198],\n",
    "        [8.679647386702298, 49.019748234404815],\n",
    "    ]\n",
    "]\n",
    "poly_dict = json.dumps({\"type\": \"Polygon\", \"coordinates\": Bretten_coords})"
   ]
  },
  {
   "cell_type": "code",
   "execution_count": null,
   "id": "d5c14f1d",
   "metadata": {},
   "outputs": [],
   "source": [
    "geom = json.loads(poly_dict)\n",
    "search_geom = shapely.geometry.shape(geom)\n",
    "\n",
    "m = folium.Map([49.00772676282502, 8.701981844725482], zoom_start=11)\n",
    "folium.GeoJson(search_geom).add_to(m)\n",
    "m"
   ]
  },
  {
   "cell_type": "code",
   "execution_count": null,
   "id": "8362507e",
   "metadata": {},
   "outputs": [],
   "source": [
    "print(\"Distance search: \", len(db.query_by_geometry(poly_dict, distance=0.0)))"
   ]
  },
  {
   "cell_type": "markdown",
   "id": "0bb06680",
   "metadata": {},
   "source": [
    "- Do several queries and join results using a logical operator"
   ]
  },
  {
   "cell_type": "code",
   "execution_count": null,
   "id": "47ee25ae",
   "metadata": {},
   "outputs": [],
   "source": [
    "# Query example: Select tree species AND\n",
    "res_fagus = db.query(\"species\", \"Acer\")\n",
    "res_ALS = db.query(\"mode\", \"TLS\")\n",
    "res_fagus_ALS = db.join([res_fagus, res_ALS], operator=\"and\")\n",
    "print(\"Acer with TLS data:\\n\", res_fagus_ALS)"
   ]
  },
  {
   "cell_type": "markdown",
   "id": "bb8ff895",
   "metadata": {},
   "source": [
    "## Export DB or subset"
   ]
  },
  {
   "cell_type": "code",
   "execution_count": null,
   "id": "1d3099e8",
   "metadata": {},
   "outputs": [],
   "source": [
    "db.export_data(\"tmp/SYSSIFOSS/tmp\", trees=[1, 5])  # Export only subset"
   ]
  },
  {
   "cell_type": "code",
   "execution_count": null,
   "id": "8227719a",
   "metadata": {},
   "outputs": [],
   "source": []
  },
  {
   "cell_type": "code",
   "execution_count": null,
   "id": "83398c14",
   "metadata": {},
   "outputs": [],
   "source": []
  },
  {
   "cell_type": "code",
   "execution_count": null,
   "id": "2eed457f",
   "metadata": {},
   "outputs": [],
   "source": []
  }
 ],
 "metadata": {
  "kernelspec": {
   "display_name": "Python 3 (ipykernel)",
   "language": "python",
   "name": "python3"
  },
  "language_info": {
   "codemirror_mode": {
    "name": "ipython",
    "version": 3
   },
   "file_extension": ".py",
   "mimetype": "text/x-python",
   "name": "python",
   "nbconvert_exporter": "python",
   "pygments_lexer": "ipython3",
   "version": "3.9.10"
  }
 },
 "nbformat": 4,
 "nbformat_minor": 5
}
