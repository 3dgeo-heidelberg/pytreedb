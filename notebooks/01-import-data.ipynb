{
 "cells": [
  {
   "cell_type": "markdown",
   "id": "f81a0078",
   "metadata": {},
   "source": [
    "# Importing data"
   ]
  },
  {
   "cell_type": "markdown",
   "id": "826017d0",
   "metadata": {},
   "source": [
    "## Package imports"
   ]
  },
  {
   "cell_type": "code",
   "execution_count": null,
   "id": "9248a472",
   "metadata": {},
   "outputs": [],
   "source": [
    "import sys\n",
    "\n",
    "sys.path.append(\"..\")\n",
    "from pytreedb import db"
   ]
  },
  {
   "cell_type": "markdown",
   "id": "06824689",
   "metadata": {},
   "source": [
    "## Create a database connection"
   ]
  },
  {
   "cell_type": "markdown",
   "id": "85983898",
   "metadata": {},
   "source": [
    "Specify the file where database is stored locally additionally to MongoDB."
   ]
  },
  {
   "cell_type": "code",
   "execution_count": null,
   "id": "506ce895",
   "metadata": {},
   "outputs": [],
   "source": [
    "mydbfile = \"my_first_pytree.db\""
   ]
  },
  {
   "cell_type": "markdown",
   "id": "778f314f",
   "metadata": {},
   "source": [
    "Define the (local) MongoDB connection."
   ]
  },
  {
   "cell_type": "code",
   "execution_count": null,
   "id": "cc3b62b2",
   "metadata": {},
   "outputs": [],
   "source": [
    "mydb = db.PyTreeDB(dbfile=mydbfile)"
   ]
  },
  {
   "cell_type": "markdown",
   "id": "b0127dc5",
   "metadata": {},
   "source": [
    "## Import data"
   ]
  },
  {
   "cell_type": "markdown",
   "id": "da01629f",
   "metadata": {},
   "source": [
    "Specify the location of the data to be imported. Here, we use a URL to a zipped folder with GeoJSON files for each tree to be added. You can also provide the path to a local directory containing the GeoJSON files."
   ]
  },
  {
   "cell_type": "code",
   "execution_count": null,
   "id": "902c01f1",
   "metadata": {},
   "outputs": [],
   "source": [
    "data_url = \"https://github.com/3dgeo-heidelberg/pytreedb/raw/main/data/test/geojsons.zip\""
   ]
  },
  {
   "cell_type": "markdown",
   "id": "7f2f3d79",
   "metadata": {},
   "source": [
    "Import data into pytreedb from URL and print short summary statistics."
   ]
  },
  {
   "cell_type": "code",
   "execution_count": null,
   "id": "db740971",
   "metadata": {},
   "outputs": [],
   "source": [
    "mydb.import_data(data_url, overwrite=True)\n",
    "print(mydb.get_stats())"
   ]
  },
  {
   "cell_type": "markdown",
   "id": "df7beb08",
   "metadata": {},
   "source": [
    "## Import database"
   ]
  },
  {
   "cell_type": "markdown",
   "id": "d37489b3",
   "metadata": {},
   "source": [
    "Alternatively, we can import an existing database (`*.db`) file from a URL."
   ]
  },
  {
   "cell_type": "code",
   "execution_count": null,
   "id": "092a6de7",
   "metadata": {},
   "outputs": [],
   "source": [
    "db_url = \"https://github.com/3dgeo-heidelberg/pytreedb/raw/main/data/test/data.db\"\n",
    "mydb.import_db(db_url, overwrite=True)"
   ]
  },
  {
   "cell_type": "code",
   "execution_count": null,
   "id": "0e62b416",
   "metadata": {},
   "outputs": [],
   "source": []
  }
 ],
 "metadata": {
  "kernelspec": {
   "display_name": "Python 3 (ipykernel)",
   "language": "python",
   "name": "python3"
  },
  "language_info": {
   "codemirror_mode": {
    "name": "ipython",
    "version": 3
   },
   "file_extension": ".py",
   "mimetype": "text/x-python",
   "name": "python",
   "nbconvert_exporter": "python",
   "pygments_lexer": "ipython3",
   "version": "3.9.10"
  }
 },
 "nbformat": 4,
 "nbformat_minor": 5
}
